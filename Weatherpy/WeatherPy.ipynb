{
 "cells": [
  {
   "cell_type": "markdown",
   "metadata": {},
   "source": [
    "# WeatherPy\n",
    "----\n",
    "\n",
    "#### Note\n",
    "* Instructions have been included for each segment. You do not have to follow them exactly, but they are included to help you think through the steps."
   ]
  },
  {
   "cell_type": "code",
   "execution_count": 1,
   "metadata": {
    "scrolled": true
   },
   "outputs": [],
   "source": [
    "# Dependencies and Setup\n",
    "import matplotlib.pyplot as plt\n",
    "import pandas as pd\n",
    "import numpy as np\n",
    "import requests\n",
    "import time\n",
    "from scipy.stats import linregress\n",
    "import json\n",
    "\n",
    "# Import API key\n",
    "from api_keys import weather_api_key\n",
    "\n",
    "# Incorporated citipy to determine city based on latitude and longitude\n",
    "from citipy import citipy\n",
    "\n",
    "# Output File (CSV)\n",
    "output_data_file = \"output_data/cities.csv\"\n",
    "\n",
    "\n",
    "# Range of latitudes and longitudes\n",
    "lat_range = (-90, 90)\n",
    "lng_range = (-180, 180)"
   ]
  },
  {
   "cell_type": "markdown",
   "metadata": {},
   "source": [
    "## Generate Cities List"
   ]
  },
  {
   "cell_type": "code",
   "execution_count": 2,
   "metadata": {},
   "outputs": [
    {
     "data": {
      "text/plain": [
       "579"
      ]
     },
     "execution_count": 2,
     "metadata": {},
     "output_type": "execute_result"
    }
   ],
   "source": [
    "# List for holding lat_lngs and cities\n",
    "lat_lngs = []\n",
    "cities = []\n",
    "\n",
    "# Create a set of random lat and lng combinations\n",
    "lats = np.random.uniform(lat_range[0], lat_range[1], size=1500)\n",
    "lngs = np.random.uniform(lng_range[0], lng_range[1], size=1500)\n",
    "lat_lngs = zip(lats, lngs)\n",
    "\n",
    "# Identify nearest city for each lat, lng combination\n",
    "for lat_lng in lat_lngs:\n",
    "    city = citipy.nearest_city(lat_lng[0], lat_lng[1]).city_name\n",
    "    \n",
    "    # If the city is unique, then add it to a our cities list\n",
    "    if city not in cities:\n",
    "        cities.append(city)\n",
    "\n",
    "# Print the city count to confirm sufficient count\n",
    "len(cities)"
   ]
  },
  {
   "cell_type": "markdown",
   "metadata": {},
   "source": [
    "### Perform API Calls\n",
    "* Perform a weather check on each city using a series of successive API calls.\n",
    "* Include a print log of each city as it'sbeing processed (with the city number and city name).\n"
   ]
  },
  {
   "cell_type": "code",
   "execution_count": 3,
   "metadata": {},
   "outputs": [
    {
     "data": {
      "text/plain": [
       "{'coord': {'lon': 87.6167, 'lat': 22.8333},\n",
       " 'weather': [{'id': 800,\n",
       "   'main': 'Clear',\n",
       "   'description': 'clear sky',\n",
       "   'icon': '01n'}],\n",
       " 'base': 'stations',\n",
       " 'main': {'temp': 27.84,\n",
       "  'feels_like': 30.74,\n",
       "  'temp_min': 27.84,\n",
       "  'temp_max': 27.84,\n",
       "  'pressure': 1008,\n",
       "  'humidity': 73,\n",
       "  'sea_level': 1008,\n",
       "  'grnd_level': 1005},\n",
       " 'visibility': 10000,\n",
       " 'wind': {'speed': 3.91, 'deg': 174, 'gust': 8.98},\n",
       " 'clouds': {'all': 0},\n",
       " 'dt': 1619638040,\n",
       " 'sys': {'country': 'IN', 'sunrise': 1619653087, 'sunset': 1619699727},\n",
       " 'timezone': 19800,\n",
       " 'id': 1258658,\n",
       " 'name': 'Rāmjībanpur',\n",
       " 'cod': 200}"
      ]
     },
     "execution_count": 3,
     "metadata": {},
     "output_type": "execute_result"
    }
   ],
   "source": [
    "#Set url for API\n",
    "\n",
    "url = \"http://api.openweathermap.org/data/2.5/weather?\"\n",
    "units = \"metric\"\n",
    "query_url = f\"{url}appid={weather_api_key}&units={units}&q=\"\n",
    "response = requests.get(query_url + city).json()\n",
    "response\n"
   ]
  },
  {
   "cell_type": "code",
   "execution_count": null,
   "metadata": {},
   "outputs": [
    {
     "name": "stdout",
     "output_type": "stream",
     "text": [
      "Beginning Data Retrieval\n",
      "---------------------------\n",
      "City not found. Skipping...\n",
      "Processing Record:2  | rikitea\n",
      "Processing Record:3  | coihaique\n",
      "Processing Record:4  | pisco\n",
      "Processing Record:5  | planaltina\n",
      "Processing Record:6  | marawi\n",
      "Processing Record:7  | busselton\n",
      "Processing Record:8  | esso\n",
      "Processing Record:9  | vaini\n",
      "Processing Record:10  | ushuaia\n",
      "Processing Record:11  | kargat\n",
      "Processing Record:12  | ribeira grande\n",
      "Processing Record:13  | jamestown\n",
      "Processing Record:14  | hermanus\n",
      "Processing Record:15  | elk point\n",
      "Processing Record:16  | reconquista\n",
      "City not found. Skipping...\n",
      "Processing Record:18  | marsa matruh\n",
      "City not found. Skipping...\n",
      "City not found. Skipping...\n",
      "Processing Record:21  | nhulunbuy\n",
      "Processing Record:22  | albany\n",
      "Processing Record:23  | cape town\n",
      "Processing Record:24  | vanimo\n",
      "Processing Record:25  | kisanga\n",
      "Processing Record:26  | mataura\n",
      "Processing Record:27  | hithadhoo\n",
      "Processing Record:28  | avarua\n",
      "Processing Record:29  | bluff\n",
      "Processing Record:30  | severo-kurilsk\n",
      "Processing Record:31  | hennenman\n",
      "Processing Record:32  | los llanos de aridane\n",
      "Processing Record:33  | mar del plata\n",
      "Processing Record:34  | cherskiy\n",
      "Processing Record:35  | hobart\n",
      "Processing Record:36  | egvekinot\n",
      "Processing Record:37  | port alfred\n",
      "Processing Record:38  | nanortalik\n",
      "Processing Record:39  | vryheid\n",
      "Processing Record:40  | bredasdorp\n",
      "Processing Record:41  | saint-leu\n",
      "Processing Record:42  | iisalmi\n",
      "Processing Record:43  | benalla\n",
      "Processing Record:44  | port hedland\n",
      "Processing Record:45  | novobirilyussy\n",
      "Processing Record:46  | sabang\n",
      "Processing Record:47  | punta arenas\n",
      "Processing Record:48  | yellowknife\n",
      "Processing Record:49  | kutum\n",
      "Processing Record:50  | general pico\n",
      "Processing Record:51  | constitucion\n",
      "Processing Record:52  | rio grande\n",
      "Processing Record:53  | puerto ayora\n",
      "Processing Record:54  | ojinaga\n",
      "Processing Record:55  | oranjestad\n",
      "Processing Record:56  | chokurdakh\n",
      "Processing Record:57  | richards bay\n",
      "Processing Record:58  | maneadero\n",
      "City not found. Skipping...\n",
      "Processing Record:60  | trat\n",
      "Processing Record:61  | lagoa\n",
      "Processing Record:62  | port elizabeth\n",
      "Processing Record:63  | georgetown\n",
      "Processing Record:64  | atuona\n",
      "Processing Record:65  | barrow\n",
      "Processing Record:66  | ancud\n",
      "Processing Record:67  | fukue\n",
      "Processing Record:68  | khatanga\n",
      "City not found. Skipping...\n",
      "Processing Record:70  | hilo\n",
      "Processing Record:71  | sitka\n",
      "Processing Record:72  | ormara\n",
      "Processing Record:73  | miri\n",
      "Processing Record:74  | qaanaaq\n",
      "Processing Record:75  | nome\n",
      "Processing Record:76  | adrar\n",
      "Processing Record:77  | rincon\n",
      "Processing Record:78  | tanete\n",
      "Processing Record:79  | naze\n",
      "Processing Record:80  | lavrentiya\n",
      "Processing Record:81  | oktyabrskiy\n",
      "Processing Record:82  | tiruchchendur\n",
      "Processing Record:83  | olaszliszka\n",
      "Processing Record:84  | victoria\n",
      "Processing Record:85  | ayagoz\n",
      "Processing Record:86  | iquitos\n",
      "Processing Record:87  | hobyo\n",
      "Processing Record:88  | souillac\n",
      "Processing Record:89  | hami\n",
      "Processing Record:90  | ponta do sol\n",
      "Processing Record:91  | fort nelson\n",
      "Processing Record:92  | dikson\n",
      "Processing Record:93  | longyearbyen\n",
      "Processing Record:94  | port-cartier\n",
      "Processing Record:95  | sinaloa\n",
      "Processing Record:96  | avera\n",
      "Processing Record:97  | arraial do cabo\n",
      "Processing Record:98  | karasburg\n",
      "Processing Record:99  | hamilton\n",
      "Processing Record:100  | carnarvon\n",
      "Processing Record:101  | kaitangata\n",
      "Processing Record:102  | saldanha\n",
      "City not found. Skipping...\n",
      "Processing Record:104  | palora\n",
      "Processing Record:105  | namatanai\n",
      "Processing Record:106  | upernavik\n",
      "Processing Record:107  | saint george\n",
      "Processing Record:108  | nago\n",
      "Processing Record:109  | fortuna\n",
      "Processing Record:110  | kodiak\n",
      "City not found. Skipping...\n",
      "Processing Record:112  | westport\n",
      "Processing Record:113  | coquimbo\n",
      "Processing Record:114  | yalutorovsk\n",
      "Processing Record:115  | duluth\n",
      "Processing Record:116  | emerald\n",
      "Processing Record:117  | booue\n",
      "Processing Record:118  | hambantota\n",
      "Processing Record:119  | narsaq\n",
      "Processing Record:120  | la rioja\n",
      "City not found. Skipping...\n",
      "Processing Record:122  | nikolskoye\n",
      "Processing Record:123  | tasiilaq\n",
      "Processing Record:124  | bethel\n",
      "Processing Record:125  | leningradskiy\n",
      "Processing Record:126  | biltine\n",
      "Processing Record:127  | stonewall\n",
      "Processing Record:128  | lebu\n",
      "Processing Record:129  | hasaki\n",
      "Processing Record:130  | dubuque\n",
      "City not found. Skipping...\n",
      "Processing Record:132  | geraldton\n",
      "Processing Record:133  | butaritari\n",
      "Processing Record:134  | puerto del rosario\n",
      "Processing Record:135  | ponta delgada\n",
      "Processing Record:136  | kopargaon\n",
      "Processing Record:137  | nouadhibou\n",
      "Processing Record:138  | east london\n",
      "Processing Record:139  | jacareacanga\n",
      "Processing Record:140  | port-gentil\n",
      "Processing Record:141  | saraland\n",
      "Processing Record:142  | savannah bight\n",
      "Processing Record:143  | mahebourg\n",
      "Processing Record:144  | new norfolk\n",
      "Processing Record:145  | ayan\n",
      "Processing Record:146  | khash\n",
      "Processing Record:147  | provideniya\n",
      "City not found. Skipping...\n",
      "Processing Record:149  | arteaga\n",
      "Processing Record:150  | mildura\n",
      "Processing Record:151  | chuy\n",
      "Processing Record:152  | airai\n",
      "Processing Record:153  | berlin\n",
      "Processing Record:154  | amazar\n",
      "Processing Record:155  | lokosovo\n",
      "Processing Record:156  | alma\n",
      "Processing Record:157  | kavaratti\n",
      "Processing Record:158  | bondo\n",
      "Processing Record:159  | vuktyl\n",
      "Processing Record:160  | suleja\n",
      "Processing Record:161  | saint-philippe\n",
      "Processing Record:162  | mount gambier\n",
      "Processing Record:163  | touros\n",
      "City not found. Skipping...\n",
      "Processing Record:165  | ploemeur\n",
      "Processing Record:166  | monchegorsk\n",
      "Processing Record:167  | chapais\n",
      "Processing Record:168  | te anau\n",
      "Processing Record:169  | buala\n",
      "Processing Record:170  | gaya\n",
      "City not found. Skipping...\n",
      "Processing Record:172  | mangrol\n",
      "Processing Record:173  | sao filipe\n",
      "Processing Record:174  | glushkovo\n",
      "Processing Record:175  | tuktoyaktuk\n",
      "Processing Record:176  | luderitz\n",
      "Processing Record:177  | hirado\n",
      "Processing Record:178  | limoges\n",
      "Processing Record:179  | havelock\n",
      "City not found. Skipping...\n",
      "City not found. Skipping...\n",
      "Processing Record:182  | tuatapere\n",
      "Processing Record:183  | mnogovershinnyy\n",
      "Processing Record:184  | teya\n",
      "Processing Record:185  | nemuro\n",
      "Processing Record:186  | karoi\n",
      "Processing Record:187  | corner brook\n",
      "Processing Record:188  | castro\n",
      "Processing Record:189  | ilulissat\n",
      "Processing Record:190  | molokovo\n",
      "Processing Record:191  | atar\n",
      "Processing Record:192  | hudson bay\n",
      "Processing Record:193  | krasnoselkup\n",
      "Processing Record:194  | thompson\n",
      "Processing Record:195  | sampit\n",
      "Processing Record:196  | mayo\n",
      "Processing Record:197  | mangan\n",
      "Processing Record:198  | mandalgovi\n",
      "Processing Record:199  | torbay\n",
      "Processing Record:200  | venancio aires\n",
      "City not found. Skipping...\n",
      "Processing Record:202  | praia da vitoria\n",
      "Processing Record:203  | slantsy\n",
      "Processing Record:204  | kapaa\n",
      "Processing Record:205  | pitimbu\n",
      "Processing Record:206  | sarandi\n",
      "Processing Record:207  | west fargo\n",
      "City not found. Skipping...\n",
      "Processing Record:209  | komsomolskiy\n",
      "City not found. Skipping...\n",
      "Processing Record:211  | oriximina\n",
      "Processing Record:212  | erattupetta\n",
      "Processing Record:213  | swan hill\n",
      "Processing Record:214  | rocha\n",
      "Processing Record:215  | vila velha\n",
      "Processing Record:216  | nantucket\n",
      "Processing Record:217  | santa maria\n",
      "Processing Record:218  | caravelas\n",
      "City not found. Skipping...\n",
      "Processing Record:220  | nazarovo\n",
      "Processing Record:221  | saskylakh\n",
      "Processing Record:222  | bodden town\n",
      "Processing Record:223  | nizhniy odes\n",
      "Processing Record:224  | kununurra\n",
      "City not found. Skipping...\n",
      "Processing Record:226  | havre-saint-pierre\n",
      "Processing Record:227  | cidreira\n",
      "Processing Record:228  | eureka\n",
      "Processing Record:229  | broome\n",
      "Processing Record:230  | hofn\n",
      "Processing Record:231  | kang\n",
      "Processing Record:232  | querfurt\n",
      "Processing Record:233  | winterberg\n",
      "Processing Record:234  | yermolayevo\n",
      "Processing Record:235  | manta\n",
      "Processing Record:236  | aklavik\n",
      "Processing Record:237  | balkhash\n",
      "Processing Record:238  | thinadhoo\n",
      "Processing Record:239  | vanavara\n",
      "Processing Record:240  | aykhal\n",
      "Processing Record:241  | saint-francois\n",
      "City not found. Skipping...\n",
      "Processing Record:243  | markova\n",
      "Processing Record:244  | qasigiannguit\n"
     ]
    },
    {
     "name": "stdout",
     "output_type": "stream",
     "text": [
      "Processing Record:245  | lima\n",
      "Processing Record:246  | siwana\n",
      "Processing Record:247  | biak\n",
      "Processing Record:248  | vila franca do campo\n",
      "Processing Record:249  | fergus falls\n",
      "Processing Record:250  | vikhorevka\n",
      "Processing Record:251  | veraval\n",
      "Processing Record:252  | ban nahin\n",
      "City not found. Skipping...\n",
      "Processing Record:254  | fort-shevchenko\n",
      "Processing Record:255  | kavieng\n",
      "City not found. Skipping...\n",
      "Processing Record:257  | lasa\n",
      "Processing Record:258  | xuanhua\n",
      "Processing Record:259  | anadyr\n",
      "Processing Record:260  | norman wells\n",
      "Processing Record:261  | chenzhou\n",
      "Processing Record:262  | gallup\n",
      "Processing Record:263  | bonavista\n",
      "Processing Record:264  | la asuncion\n",
      "Processing Record:265  | alugan\n",
      "Processing Record:266  | pando\n",
      "Processing Record:267  | caraballeda\n",
      "Processing Record:268  | mingyue\n",
      "Processing Record:269  | forbes\n",
      "Processing Record:270  | boulder city\n",
      "Processing Record:271  | viedma\n",
      "City not found. Skipping...\n",
      "Processing Record:273  | anan\n",
      "Processing Record:274  | alihe\n",
      "Processing Record:275  | pancas\n",
      "Processing Record:276  | shimoda\n",
      "Processing Record:277  | arkadelphia\n",
      "Processing Record:278  | panama city\n",
      "Processing Record:279  | alofi\n",
      "City not found. Skipping...\n",
      "City not found. Skipping...\n",
      "Processing Record:282  | manicore\n",
      "Processing Record:283  | guerrero negro\n",
      "City not found. Skipping...\n",
      "Processing Record:285  | sar-e pul\n",
      "City not found. Skipping...\n",
      "Processing Record:287  | lorengau\n",
      "Processing Record:288  | badnawar\n",
      "Processing Record:289  | bundoran\n",
      "Processing Record:290  | esil\n",
      "Processing Record:291  | pokaran\n",
      "City not found. Skipping...\n",
      "Processing Record:293  | makaha\n",
      "Processing Record:294  | makakilo city\n",
      "Processing Record:295  | vestmannaeyjar\n",
      "Processing Record:296  | laguna\n",
      "Processing Record:297  | merrill\n",
      "Processing Record:298  | belmonte\n",
      "Processing Record:299  | faya\n",
      "City not found. Skipping...\n",
      "Processing Record:301  | iqaluit\n",
      "City not found. Skipping...\n",
      "Processing Record:303  | labuhan\n",
      "Processing Record:304  | lompoc\n",
      "Processing Record:305  | aspindza\n",
      "City not found. Skipping...\n",
      "Processing Record:307  | la ronge\n",
      "Processing Record:308  | esperance\n",
      "City not found. Skipping...\n",
      "Processing Record:310  | belousovka\n",
      "Processing Record:311  | winkler\n",
      "Processing Record:312  | grindavik\n",
      "Processing Record:313  | kitgum\n",
      "City not found. Skipping...\n",
      "Processing Record:315  | severo-yeniseyskiy\n",
      "Processing Record:316  | charters towers\n",
      "Processing Record:317  | harsin\n",
      "Processing Record:318  | gasa\n",
      "Processing Record:319  | nokaneng\n",
      "Processing Record:320  | abu dhabi\n",
      "Processing Record:321  | teguise\n",
      "Processing Record:322  | poya\n",
      "Processing Record:323  | hervey bay\n",
      "Processing Record:324  | barcelos\n",
      "Processing Record:325  | nosy varika\n",
      "Processing Record:326  | anloga\n",
      "Processing Record:327  | warri\n",
      "Processing Record:328  | gat\n",
      "Processing Record:329  | sainte-maxime\n",
      "Processing Record:330  | wald-michelbach\n",
      "Processing Record:331  | sisimiut\n",
      "Processing Record:332  | talnakh\n",
      "Processing Record:333  | fairbanks\n",
      "Processing Record:334  | sorland\n",
      "Processing Record:335  | ramban\n",
      "Processing Record:336  | ayr\n",
      "Processing Record:337  | quatre cocos\n",
      "Processing Record:338  | monte alegre\n",
      "Processing Record:339  | ustka\n",
      "Processing Record:340  | neuquen\n",
      "City not found. Skipping...\n",
      "Processing Record:342  | ostrovnoy\n",
      "Processing Record:343  | port moresby\n",
      "Processing Record:344  | yar-sale\n",
      "Processing Record:345  | cayenne\n",
      "Processing Record:346  | batsfjord\n",
      "Processing Record:347  | arkhangelsk\n",
      "Processing Record:348  | onega\n",
      "Processing Record:349  | atambua\n",
      "Processing Record:350  | dalvik\n",
      "Processing Record:351  | salalah\n",
      "Processing Record:352  | san quintin\n",
      "Processing Record:353  | senador guiomard\n",
      "City not found. Skipping...\n",
      "Processing Record:355  | kahului\n",
      "Processing Record:356  | faanui\n",
      "City not found. Skipping...\n",
      "City not found. Skipping...\n",
      "Processing Record:359  | baykit\n",
      "Processing Record:360  | batticaloa\n",
      "Processing Record:361  | roald\n",
      "Processing Record:362  | tiksi\n",
      "Processing Record:363  | barkhan\n",
      "Processing Record:364  | mirador\n",
      "Processing Record:365  | bandarbeyla\n",
      "Processing Record:366  | carauari\n",
      "Processing Record:367  | torokszentmiklos\n",
      "Processing Record:368  | kaa-khem\n",
      "Processing Record:369  | champerico\n",
      "Processing Record:370  | barra do garcas\n",
      "Processing Record:371  | montepuez\n",
      "Processing Record:372  | ballina\n",
      "City not found. Skipping...\n",
      "Processing Record:374  | cam ranh\n",
      "Processing Record:375  | buchanan\n",
      "Processing Record:376  | port blair\n",
      "Processing Record:377  | ossora\n",
      "City not found. Skipping...\n",
      "Processing Record:379  | grand-santi\n",
      "Processing Record:380  | palmer\n",
      "Processing Record:381  | bambous virieux\n",
      "City not found. Skipping...\n",
      "Processing Record:383  | siedlce\n",
      "Processing Record:384  | necochea\n",
      "Processing Record:385  | sioux lookout\n",
      "Processing Record:386  | kasempa\n",
      "Processing Record:387  | lyngseidet\n",
      "Processing Record:388  | arlit\n",
      "Processing Record:389  | uvat\n",
      "Processing Record:390  | linguere\n",
      "Processing Record:391  | rock hill\n",
      "Processing Record:392  | dangriga\n",
      "Processing Record:393  | grand-bourg\n",
      "Processing Record:394  | wells\n",
      "Processing Record:395  | helsinki\n",
      "Processing Record:396  | bunia\n",
      "Processing Record:397  | ahipara\n",
      "Processing Record:398  | garissa\n",
      "City not found. Skipping...\n",
      "Processing Record:400  | ibague\n",
      "City not found. Skipping...\n",
      "Processing Record:402  | leeton\n",
      "Processing Record:403  | codrington\n",
      "Processing Record:404  | port lincoln\n",
      "Processing Record:405  | mirnyy\n",
      "Processing Record:406  | petawawa\n",
      "Processing Record:407  | osa\n",
      "Processing Record:408  | sharlyk\n",
      "Processing Record:409  | benghazi\n",
      "City not found. Skipping...\n",
      "Processing Record:411  | noumea\n",
      "Processing Record:412  | miramar\n",
      "City not found. Skipping...\n",
      "Processing Record:414  | abashiri\n",
      "Processing Record:415  | kattivakkam\n",
      "Processing Record:416  | kavarna\n",
      "Processing Record:417  | taoudenni\n",
      "Processing Record:418  | barra\n",
      "Processing Record:419  | isangel\n",
      "Processing Record:420  | gudari\n",
      "Processing Record:421  | jeremie\n",
      "Processing Record:422  | yelizovo\n",
      "Processing Record:423  | baryatino\n",
      "Processing Record:424  | balad\n",
      "Processing Record:425  | oloron-sainte-marie\n",
      "Processing Record:426  | huancavelica\n",
      "Processing Record:427  | hokitika\n",
      "Processing Record:428  | san patricio\n",
      "Processing Record:429  | tazovskiy\n",
      "Processing Record:430  | santa isabel do rio negro\n",
      "Processing Record:431  | cabo san lucas\n",
      "Processing Record:432  | katsuura\n",
      "Processing Record:433  | raudeberg\n",
      "Processing Record:434  | pevek\n",
      "City not found. Skipping...\n",
      "Processing Record:436  | sena madureira\n",
      "Processing Record:437  | san buenaventura\n",
      "Processing Record:438  | charcas\n",
      "Processing Record:439  | road town\n",
      "Processing Record:440  | bakau\n",
      "Processing Record:441  | mahajanga\n",
      "Processing Record:442  | vallenar\n",
      "Processing Record:443  | bengkulu\n",
      "City not found. Skipping...\n",
      "Processing Record:445  | pecica\n",
      "Processing Record:446  | acapulco\n",
      "Processing Record:447  | eyl\n",
      "Processing Record:448  | sitio novo do tocantins\n",
      "Processing Record:449  | thunder bay\n",
      "Processing Record:450  | ketchikan\n",
      "Processing Record:451  | burnie\n",
      "Processing Record:452  | vardo\n",
      "Processing Record:453  | tual\n",
      "City not found. Skipping...\n",
      "Processing Record:455  | kambove\n",
      "Processing Record:456  | namibe\n",
      "Processing Record:457  | vao\n",
      "Processing Record:458  | port hardy\n",
      "Processing Record:459  | tecoanapa\n",
      "Processing Record:460  | knysna\n",
      "Processing Record:461  | clyde river\n",
      "Processing Record:462  | bosaso\n",
      "Processing Record:463  | fuerte olimpo\n",
      "City not found. Skipping...\n",
      "Processing Record:465  | yulara\n",
      "Processing Record:466  | molos\n",
      "Processing Record:467  | conceicao do araguaia\n",
      "Processing Record:468  | tomatlan\n",
      "Processing Record:469  | scottsbluff\n",
      "Processing Record:470  | saint-gaudens\n",
      "Processing Record:471  | payakumbuh\n",
      "Processing Record:472  | bogdanovich\n",
      "Processing Record:473  | port hueneme\n",
      "Processing Record:474  | sinnamary\n",
      "Processing Record:475  | trincomalee\n",
      "Processing Record:476  | san juan\n",
      "Processing Record:477  | karratha\n",
      "Processing Record:478  | san policarpo\n",
      "Processing Record:479  | seoul\n",
      "Processing Record:480  | pacific grove\n",
      "Processing Record:481  | sawakin\n",
      "Processing Record:482  | ventspils\n",
      "Processing Record:483  | vikulovo\n",
      "Processing Record:484  | washougal\n",
      "Processing Record:485  | varkaus\n",
      "Processing Record:486  | berdigestyakh\n",
      "Processing Record:487  | padang\n"
     ]
    },
    {
     "name": "stdout",
     "output_type": "stream",
     "text": [
      "Processing Record:488  | north platte\n",
      "Processing Record:489  | gisborne\n",
      "Processing Record:490  | alta floresta\n",
      "Processing Record:491  | jennings\n",
      "Processing Record:492  | barra do corda\n",
      "Processing Record:493  | rexburg\n",
      "Processing Record:494  | salinopolis\n",
      "Processing Record:495  | ribeira brava\n",
      "Processing Record:496  | tabuk\n",
      "City not found. Skipping...\n",
      "City not found. Skipping...\n",
      "City not found. Skipping...\n",
      "Processing Record:500  | ratnagiri\n",
      "City not found. Skipping...\n",
      "Processing Record:502  | velyka mykhaylivka\n",
      "Processing Record:503  | kenitra\n",
      "Processing Record:504  | shitanjing\n",
      "Processing Record:505  | saint-nazaire\n",
      "Processing Record:506  | santa barbara\n",
      "Processing Record:507  | yemtsa\n",
      "Processing Record:508  | olafsvik\n",
      "Processing Record:509  | karaton\n",
      "Processing Record:510  | north myrtle beach\n",
      "City not found. Skipping...\n",
      "Processing Record:512  | acucena\n",
      "City not found. Skipping...\n",
      "City not found. Skipping...\n",
      "Processing Record:515  | batemans bay\n",
      "Processing Record:516  | nalut\n",
      "Processing Record:517  | puerto leguizamo\n",
      "Processing Record:518  | colares\n",
      "Processing Record:519  | tharad\n",
      "Processing Record:520  | mount isa\n",
      "Processing Record:521  | omboue\n",
      "Processing Record:522  | petropavlovsk-kamchatskiy\n",
      "Processing Record:523  | thyolo\n",
      "Processing Record:524  | teahupoo\n",
      "Processing Record:525  | klaksvik\n",
      "City not found. Skipping...\n",
      "Processing Record:527  | paulo afonso\n",
      "Processing Record:528  | deniliquin\n",
      "Processing Record:529  | port augusta\n",
      "Processing Record:530  | acari\n",
      "Processing Record:531  | bowen\n",
      "Processing Record:532  | hirapur\n",
      "Processing Record:533  | el tigre\n",
      "Processing Record:534  | yerbogachen\n",
      "Processing Record:535  | jaciara\n",
      "Processing Record:536  | manaure\n",
      "Processing Record:537  | tortoli\n",
      "Processing Record:538  | okhotsk\n",
      "Processing Record:539  | koungou\n",
      "Processing Record:540  | acajutla\n",
      "Processing Record:541  | sibolga\n",
      "City not found. Skipping...\n",
      "City not found. Skipping...\n",
      "Processing Record:544  | kyabe\n",
      "Processing Record:545  | tome\n",
      "Processing Record:546  | beloha\n",
      "Processing Record:547  | auki\n",
      "Processing Record:548  | catamarca\n",
      "Processing Record:549  | berlevag\n",
      "Processing Record:550  | coos bay\n",
      "Processing Record:551  | tromso\n",
      "Processing Record:552  | tura\n",
      "Processing Record:553  | huichapan\n",
      "Processing Record:554  | benjamin constant\n",
      "City not found. Skipping...\n",
      "Processing Record:556  | san cristobal\n",
      "Processing Record:557  | burgeo\n",
      "Processing Record:558  | benguela\n",
      "City not found. Skipping...\n",
      "Processing Record:560  | beringovskiy\n",
      "Processing Record:561  | malanje\n",
      "Processing Record:562  | sao joao da barra\n",
      "Processing Record:563  | oistins\n",
      "Processing Record:564  | kuusamo\n",
      "Processing Record:565  | dingle\n",
      "Processing Record:566  | paamiut\n",
      "Processing Record:567  | boende\n",
      "Processing Record:568  | zaraza\n",
      "City not found. Skipping...\n",
      "Processing Record:570  | hassleholm\n",
      "Processing Record:571  | zhigansk\n",
      "Processing Record:572  | tolaga bay\n",
      "Processing Record:573  | bima\n"
     ]
    }
   ],
   "source": [
    "# Set empty lists\n",
    "\n",
    "city_list = []\n",
    "lat_list = []\n",
    "lng_list = []\n",
    "max_temp = []\n",
    "humidity = []\n",
    "cloudlness = []\n",
    "wind_speed = []\n",
    "country = []\n",
    "date = []\n",
    "\n",
    "#Loop through each citiy\n",
    "print(f'Beginning Data Retrieval')\n",
    "print('---------------------------')\n",
    "\n",
    "for index, city in enumerate (cities, start =1):\n",
    "    \n",
    "    try:\n",
    "        response = requests.get(query_url + city).json()\n",
    "        city_list.append(response['name'])                         \n",
    "        lat_list.append(response['coord']['lat'])\n",
    "        lng_list.append(response['coord']['lon'])\n",
    "        max_temp.append(response['main']['temp_max'])\n",
    "        humidity.append(response['main']['humidity'])\n",
    "        cloudlness.append(response['clouds']['all'])\n",
    "        wind_speed.append(response['wind']['speed'])\n",
    "        country.append(response['sys']['country'])\n",
    "        date.append(response['dt'])\n",
    "        x = len(cities)                     \n",
    "        print(f'Processing Record:{index}  | {city}')\n",
    "        \n",
    "    except (KeyError):\n",
    "        print(f'City not found. Skipping...')\n",
    "       \n",
    "    \n",
    "print('---------------------------')\n",
    "print(f'Data Retrieval Complete ')\n",
    "print('---------------------------')\n"
   ]
  },
  {
   "cell_type": "markdown",
   "metadata": {},
   "source": [
    "### Convert Raw Data to DataFrame\n",
    "* Export the city data into a .csv.\n",
    "* Display the DataFrame"
   ]
  },
  {
   "cell_type": "code",
   "execution_count": null,
   "metadata": {},
   "outputs": [],
   "source": [
    "#Create DataFrame\n",
    "\n",
    "weather_df = pd.DataFrame({'City': city_list,'Lat': lat_list,'Lng': lng_list,'Max Temp': max_temp,'Humidity': humidity,'Cloudlness': cloudlness,'Wind Speed': wind_speed,'Country': country,'Date': date})\n",
    "\n",
    "weather_df.head()\n"
   ]
  },
  {
   "cell_type": "code",
   "execution_count": null,
   "metadata": {},
   "outputs": [],
   "source": [
    "# output city data \n",
    "\n",
    "weather_df.to_csv('output_data/cities.csv', index = False)"
   ]
  },
  {
   "cell_type": "code",
   "execution_count": null,
   "metadata": {},
   "outputs": [],
   "source": [
    "weather_df.describe()"
   ]
  },
  {
   "cell_type": "markdown",
   "metadata": {},
   "source": [
    "## Inspect the data and remove the cities where the humidity > 100%.\n",
    "----\n",
    "Skip this step if there are no cities that have humidity > 100%. "
   ]
  },
  {
   "cell_type": "code",
   "execution_count": null,
   "metadata": {},
   "outputs": [],
   "source": [
    "humidity_check = weather_df.loc[weather_df['Humidity'] > 100]['Humidity'].count()\n",
    "    \n",
    "print('There are cities that have humidity greater than 100%:',humidity_check)"
   ]
  },
  {
   "cell_type": "code",
   "execution_count": null,
   "metadata": {},
   "outputs": [],
   "source": [
    "# Make a new DataFrame equal to the city data to drop all humidity outliers by index.\n",
    "# Passing \"inplace=False\" will make a copy of the city_data DataFrame, which we call \"clean_city_data\".\n"
   ]
  },
  {
   "cell_type": "markdown",
   "metadata": {},
   "source": [
    "## Plotting the Data\n",
    "* Use proper labeling of the plots using plot titles (including date of analysis) and axes labels.\n",
    "* Save the plotted figures as .pngs."
   ]
  },
  {
   "cell_type": "markdown",
   "metadata": {},
   "source": [
    "## Latitude vs. Temperature Plot"
   ]
  },
  {
   "cell_type": "code",
   "execution_count": null,
   "metadata": {},
   "outputs": [],
   "source": [
    "* The temperature reaches the highest point between latitudes 0 and 20\n",
    "* Temperature starts fall when latitude increases"
   ]
  },
  {
   "cell_type": "code",
   "execution_count": 38,
   "metadata": {},
   "outputs": [
    {
     "data": {
      "image/png": "[encoded data removed]",
      "text/plain": [
       "<Figure size 432x288 with 1 Axes>"
      ]
     },
     "metadata": {
      "needs_background": "light"
     },
     "output_type": "display_data"
    }
   ],
   "source": [
    "#Build a scatter plot \n",
    "\n",
    "fig, ax = plt.subplots(figsize=(6, 4))\n",
    "plt.scatter(weather_df['Lat'], weather_df['Max Temp'], marker = 'o', color = 'blue', edgecolor='black')\n",
    "\n",
    "\n",
    "# Incorporate the other graph properties\n",
    "\n",
    "plt.title(\"City Latitude vs max Temperature (04/01/20)\")\n",
    "plt.ylabel(\" Max Temperature (F)\")\n",
    "plt.xlabel(\"Latitude\")\n",
    "plt.grid(True)\n",
    "\n",
    "# Save the image as .pngs\n",
    "\n",
    "plt.savefig('output_data/latitude vs temperature.png')\n",
    "\n",
    "# Show plot\n",
    "plt.show()\n",
    "\n",
    "\n"
   ]
  },
  {
   "cell_type": "markdown",
   "metadata": {},
   "source": [
    "## Latitude vs. Humidity Plot"
   ]
  },
  {
   "cell_type": "code",
   "execution_count": 30,
   "metadata": {},
   "outputs": [
    {
     "ename": "SyntaxError",
     "evalue": "invalid syntax (<ipython-input-30-e78d23dbfda8>, line 1)",
     "output_type": "error",
     "traceback": [
      "\u001b[0;36m  File \u001b[0;32m\"<ipython-input-30-e78d23dbfda8>\"\u001b[0;36m, line \u001b[0;32m1\u001b[0m\n\u001b[0;31m    * The relationship between latitude and humidity across the entire range of the variable plotted.\u001b[0m\n\u001b[0m          ^\u001b[0m\n\u001b[0;31mSyntaxError\u001b[0m\u001b[0;31m:\u001b[0m invalid syntax\n"
     ]
    }
   ],
   "source": [
    "* The relationship between latitude and humidity across the entire range of the variable plotted. \n",
    "* There is no obvious pattern to make an assumption between the variables. "
   ]
  },
  {
   "cell_type": "code",
   "execution_count": 39,
   "metadata": {},
   "outputs": [
    {
     "data": {
      "image/png": "[encoded data removed]",
      "text/plain": [
       "<Figure size 432x288 with 1 Axes>"
      ]
     },
     "metadata": {
      "needs_background": "light"
     },
     "output_type": "display_data"
    }
   ],
   "source": [
    "fig, ax = plt.subplots(figsize=(6, 4))\n",
    "plt.scatter(weather_df['Lat'], weather_df['Humidity'], marker = 'o',color = 'blue', edgecolor='black')\n",
    "\n",
    "\n",
    "# Incorporate the other graph properties\n",
    "plt.title(\"City Latitude vs Humidity (04/01/20)\")\n",
    "plt.ylabel(\" Humidity(%)\")\n",
    "plt.xlabel(\"Latitude\")\n",
    "plt.grid(True)\n",
    "\n",
    "# Save the image as .pngs\n",
    "\n",
    "plt.savefig('output_data/latitude vs humidity.png')\n",
    "\n",
    "# Show plot\n",
    "plt.show()\n",
    "\n"
   ]
  },
  {
   "cell_type": "markdown",
   "metadata": {},
   "source": [
    "## Latitude vs. Cloudiness Plot"
   ]
  },
  {
   "cell_type": "code",
   "execution_count": null,
   "metadata": {},
   "outputs": [],
   "source": [
    "* The relationship between latitude and cloudiness across the entire range of the variable plotted. \n",
    "* There is no obvious pattern to make an assumption between the variables. "
   ]
  },
  {
   "cell_type": "code",
   "execution_count": 40,
   "metadata": {},
   "outputs": [
    {
     "data": {
      "image/png": "[encoded data removed]",
      "text/plain": [
       "<Figure size 432x288 with 1 Axes>"
      ]
     },
     "metadata": {
      "needs_background": "light"
     },
     "output_type": "display_data"
    }
   ],
   "source": [
    "fig, ax = plt.subplots(figsize=(6, 4))\n",
    "plt.scatter(weather_df['Lat'], weather_df['Cloudlness'], marker = 'o', color = 'blue', edgecolor='black')\n",
    "\n",
    "\n",
    "# Incorporate the other graph properties\n",
    "plt.title(\"City Latitude vs Cloudiness (04/01/20)\")\n",
    "plt.ylabel(\" Cloudiness(%)\")\n",
    "plt.xlabel(\"Latitude\")\n",
    "plt.grid(True)\n",
    "\n",
    "# Save the image as .pngs\n",
    "\n",
    "plt.savefig('output_data/latitude vs cloudiness.png')\n",
    "\n",
    "# Show plot\n",
    "plt.show()\n",
    "\n"
   ]
  },
  {
   "cell_type": "markdown",
   "metadata": {},
   "source": [
    "## Latitude vs. Wind Speed Plot"
   ]
  },
  {
   "cell_type": "code",
   "execution_count": null,
   "metadata": {},
   "outputs": [],
   "source": [
    "* The relationship between latitude and wind speed across the entire range of the variable plotted. \n",
    "* There is no obvious pattern to make an assumption between the variables. "
   ]
  },
  {
   "cell_type": "code",
   "execution_count": 41,
   "metadata": {
    "scrolled": true
   },
   "outputs": [
    {
     "data": {
      "image/png": "[encoded data removed]",
      "text/plain": [
       "<Figure size 432x288 with 1 Axes>"
      ]
     },
     "metadata": {
      "needs_background": "light"
     },
     "output_type": "display_data"
    }
   ],
   "source": [
    "fig, ax = plt.subplots(figsize=(6, 4))\n",
    "plt.scatter(weather_df['Lat'], weather_df['Wind Speed'], marker = 'o',color = 'blue', edgecolor='black')\n",
    "\n",
    "\n",
    "# Incorporate the other graph properties\n",
    "plt.title(\"City Latitude vs Wind Speed (04/01/20)\")\n",
    "plt.ylabel(\" Wind Speed (mph))\")\n",
    "plt.xlabel(\"Latitude\")\n",
    "plt.grid(True)\n",
    "\n",
    "# Save the image as .pngs\n",
    "\n",
    "plt.savefig('output_data/latitude vs wind speed.png')\n",
    "\n",
    "# Show plot\n",
    "plt.show()\n"
   ]
  },
  {
   "cell_type": "markdown",
   "metadata": {},
   "source": [
    "## Linear Regression"
   ]
  },
  {
   "cell_type": "code",
   "execution_count": null,
   "metadata": {},
   "outputs": [],
   "source": [
    "n_hemisphere = weather_df.loc[weather_df['Lat'] >= 0]\n",
    "s_hemisphere = weather_df.loc[weather_df['Lat'] < 0]"
   ]
  },
  {
   "cell_type": "markdown",
   "metadata": {},
   "source": [
    "####  Northern Hemisphere - Max Temp vs. Latitude Linear Regression"
   ]
  },
  {
   "cell_type": "code",
   "execution_count": null,
   "metadata": {},
   "outputs": [],
   "source": [
    "* The plot shows that there are stronger negative relationship between Northern Hemisphere max temp and latitude. \n",
    "* r-squared is 77.93 % indicate variables which can be considered highly coorelated and stronger fit. \n"
   ]
  },
  {
   "cell_type": "code",
   "execution_count": null,
   "metadata": {},
   "outputs": [],
   "source": [
    "x = n_hemisphere['Lat']\n",
    "y = n_hemisphere['Max Temp']\n",
    "\n",
    "fig, ax = plt.subplots(figsize=(6, 4))\n",
    "(slope, intercept, rvalue, pvalue, stderr) = linregress(x,y )\n",
    "\n",
    "regress_values = x * slope + intercept\n",
    "\n",
    "line_eq = \"y = \" + str(round(slope,2)) + \"x + \" + str(round(intercept,2))\n",
    "plt.scatter(x, y, marker = 'o',color = 'blue', edgecolor='black')\n",
    "plt.plot(x,regress_values, '-r')\n",
    "\n",
    "# Incorporate the other graph properties\n",
    "plt.annotate(line_eq,xy=(0,0),fontsize=20, color=\"red\", xytext = (5,-15))\n",
    "plt.title(\"Northtern Hemisphere - Max Temp vs Latitude\")\n",
    "plt.ylabel(\"Max Temp \")\n",
    "plt.xlabel(\"Latitude\")\n",
    "\n",
    "\n",
    "# Show plot\n",
    "plt.show()"
   ]
  },
  {
   "cell_type": "code",
   "execution_count": null,
   "metadata": {},
   "outputs": [],
   "source": [
    "# Print out the r-squared value along with the plot.\n",
    "\n",
    "print(f\"The r-squared is: {rvalue**2}\")"
   ]
  },
  {
   "cell_type": "markdown",
   "metadata": {},
   "source": [
    "####  Southern Hemisphere - Max Temp vs. Latitude Linear Regression"
   ]
  },
  {
   "cell_type": "code",
   "execution_count": null,
   "metadata": {},
   "outputs": [],
   "source": [
    "* The plot shows that there are negative relationship between Southern Hemisphere max temp and latitude. \n",
    "* r-squared is 47.23 % is lower than midpoint that is not stronger fit."
   ]
  },
  {
   "cell_type": "code",
   "execution_count": null,
   "metadata": {},
   "outputs": [],
   "source": [
    "x = s_hemisphere['Lat']\n",
    "y = s_hemisphere['Max Temp']\n",
    "\n",
    "fig, ax = plt.subplots(figsize=(6, 4))\n",
    "(slope, intercept, rvalue, pvalue, stderr) = linregress(x,y )\n",
    "\n",
    "regress_values = x * slope + intercept\n",
    "\n",
    "line_eq = \"y = \" + str(round(slope,2)) + \"x + \" + str(round(intercept,2))\n",
    "plt.scatter(x, y, marker = 'o',color = 'blue', edgecolor='black')\n",
    "plt.plot(x,regress_values , '-r')\n",
    "\n",
    "# Incorporate the other graph properties\n",
    "plt.annotate(line_eq, xy = (-55,26),fontsize=20, color=\"red\")\n",
    "plt.title(\"Southtern Hemisphere - Max Temp vs Latitude\")\n",
    "plt.ylabel(\"Max Temp\")\n",
    "plt.xlabel(\"Latitude\")\n",
    "\n",
    "\n",
    "# Show plot\n",
    "plt.show()"
   ]
  },
  {
   "cell_type": "code",
   "execution_count": null,
   "metadata": {},
   "outputs": [],
   "source": [
    "# Print out the r-squared value along with the plot.\n",
    "\n",
    "print(f\"The r-squared is: {rvalue**2}\")"
   ]
  },
  {
   "cell_type": "markdown",
   "metadata": {},
   "source": [
    "####  Northern Hemisphere - Humidity (%) vs. Latitude Linear Regression"
   ]
  },
  {
   "cell_type": "code",
   "execution_count": null,
   "metadata": {},
   "outputs": [],
   "source": [
    "* The r-squared is 4.74 % is not stronger fit. \n",
    "* The relationship between latitude and humidity across the entire range of the variable plotted. \n",
    "* There is no obvious pattern to make an assumption between the variables. "
   ]
  },
  {
   "cell_type": "code",
   "execution_count": null,
   "metadata": {},
   "outputs": [],
   "source": [
    "x = n_hemisphere['Lat']\n",
    "y = n_hemisphere['Humidity']\n",
    "\n",
    "fig, ax = plt.subplots(figsize=(6, 4))\n",
    "(slope, intercept, rvalue, pvalue, stderr) = linregress(x,y )\n",
    "\n",
    "regress_values = x * slope + intercept\n",
    "\n",
    "line_eq = \"y = \" + str(round(slope,2)) + \"x + \" + str(round(intercept,2))\n",
    "plt.scatter(x, y, marker = 'o',color = 'blue', edgecolor='black')\n",
    "plt.plot(x,regress_values, '-r')\n",
    "\n",
    "# Incorporate the other graph properties\n",
    "plt.annotate(line_eq,xy = (35,10),fontsize=20, color=\"red\", )\n",
    "plt.title(\"Northtern Hemisphere - Humidity vs Latitude\")\n",
    "plt.ylabel(\"Humidity\")\n",
    "plt.xlabel(\"Latitude\")\n",
    "\n",
    "\n",
    "# Show plot\n",
    "plt.show()"
   ]
  },
  {
   "cell_type": "code",
   "execution_count": null,
   "metadata": {},
   "outputs": [],
   "source": [
    "# Print out the r-squared value along with the plot.\n",
    "\n",
    "print(f\"The r-squared is: {rvalue**2}\")"
   ]
  },
  {
   "cell_type": "markdown",
   "metadata": {},
   "source": [
    "####  Southern Hemisphere - Humidity (%) vs. Latitude Linear Regression"
   ]
  },
  {
   "cell_type": "code",
   "execution_count": null,
   "metadata": {},
   "outputs": [],
   "source": [
    "* The r-squared is 4.74 % is not stronger fit. \n",
    "* The relationship between latitude and humidity across the entire range of the variable plotted. \n",
    "* There is no obvious pattern to make an assumption between the variables. "
   ]
  },
  {
   "cell_type": "code",
   "execution_count": null,
   "metadata": {},
   "outputs": [],
   "source": [
    "x = s_hemisphere['Lat']\n",
    "y = s_hemisphere['Humidity']\n",
    "\n",
    "fig, ax = plt.subplots(figsize=(6, 4))\n",
    "(slope, intercept, rvalue, pvalue, stderr) = linregress(x,y )\n",
    "\n",
    "regress_values = x * slope + intercept\n",
    "\n",
    "line_eq = \"y = \" + str(round(slope,2)) + \"x + \" + str(round(intercept,2))\n",
    "plt.scatter(x, y, marker = 'o',color = 'blue', edgecolor='black')\n",
    "plt.plot(x,regress_values, '-r')\n",
    "\n",
    "# Incorporate the other graph properties\n",
    "plt.annotate(line_eq,(-35,45),fontsize=20, color=\"red\", )\n",
    "plt.title(\"Southtern Hemisphere - Humidity vs Latitude\")\n",
    "plt.ylabel(\"Humidity\")\n",
    "plt.xlabel(\"Latitude\")\n",
    "\n",
    "\n",
    "# Show plot\n",
    "plt.show()"
   ]
  },
  {
   "cell_type": "code",
   "execution_count": null,
   "metadata": {},
   "outputs": [],
   "source": [
    "# Print out the r-squared value along with the plot.\n",
    "\n",
    "print(f\"The r-squared is: {rvalue**2}\")"
   ]
  },
  {
   "cell_type": "markdown",
   "metadata": {},
   "source": [
    "####  Northern Hemisphere - Cloudiness (%) vs. Latitude Linear Regression"
   ]
  },
  {
   "cell_type": "code",
   "execution_count": null,
   "metadata": {},
   "outputs": [],
   "source": [
    "** The r-squared is 2.61 % is not stronger fit. \n",
    "* The relationship between latitude and humidity across the entire range of the variable plotted. \n",
    "* There is no obvious pattern to make an assumption between the variables. "
   ]
  },
  {
   "cell_type": "code",
   "execution_count": null,
   "metadata": {},
   "outputs": [],
   "source": [
    "x = n_hemisphere['Lat']\n",
    "y = n_hemisphere['Cloudlness']\n",
    "\n",
    "fig, ax = plt.subplots(figsize=(6, 4))\n",
    "(slope, intercept, rvalue, pvalue, stderr) = linregress(x,y )\n",
    "\n",
    "regress_values = x * slope + intercept\n",
    "\n",
    "line_eq = \"y = \" + str(round(slope,2)) + \"x + \" + str(round(intercept,2))\n",
    "plt.scatter(x, y, marker = 'o',color = 'blue', edgecolor='black')\n",
    "plt.plot(x,regress_values, '-r')\n",
    "\n",
    "# Incorporate the other graph properties\n",
    "plt.annotate(line_eq,(25,25),fontsize=20, color=\"red\", )\n",
    "plt.title(\"Northtern Hemisphere - Cloudiness vs Latitude\")\n",
    "plt.ylabel(\"Cloudiness\")\n",
    "plt.xlabel(\"Latitude\")\n",
    "\n",
    "\n",
    "# Show plot\n",
    "plt.show()"
   ]
  },
  {
   "cell_type": "code",
   "execution_count": null,
   "metadata": {},
   "outputs": [],
   "source": [
    "# Print out the r-squared value along with the plot.\n",
    "\n",
    "print(f\"The r-squared is: {rvalue**2}\")"
   ]
  },
  {
   "cell_type": "markdown",
   "metadata": {},
   "source": [
    "####  Southern Hemisphere - Cloudiness (%) vs. Latitude Linear Regression"
   ]
  },
  {
   "cell_type": "code",
   "execution_count": null,
   "metadata": {},
   "outputs": [],
   "source": [
    "* The r-squared is below zero not stronger fit. \n",
    "* The relationship between latitude and humidity across the entire range of the variable plotted. \n",
    "* There is no obvious pattern to show the relationship between two variables. "
   ]
  },
  {
   "cell_type": "code",
   "execution_count": null,
   "metadata": {},
   "outputs": [],
   "source": [
    "x = s_hemisphere['Lat']\n",
    "y = s_hemisphere['Cloudlness']\n",
    "\n",
    "\n",
    "(slope, intercept, rvalue, pvalue, stderr) = linregress(x,y )\n",
    "\n",
    "regress_values = x * slope + intercept\n",
    "\n",
    "line_eq = \"y = \" + str(round(slope,2)) + \"x + \" + str(round(intercept,2))\n",
    "plt.scatter(x, y, marker = 'o',color = 'blue', edgecolor='black')\n",
    "plt.plot(x,regress_values, '-r')\n",
    "\n",
    "# Incorporate the other graph properties\n",
    "plt.annotate(line_eq,(-55,20),fontsize=20, color=\"red\", )\n",
    "plt.title(\"Southtern Hemisphere - Cloudlness vs Latitude\")\n",
    "plt.ylabel(\"Cloudlness\")\n",
    "plt.xlabel(\"Latitude\")\n",
    "\n",
    "# Show plot\n",
    "plt.show()"
   ]
  },
  {
   "cell_type": "code",
   "execution_count": null,
   "metadata": {},
   "outputs": [],
   "source": [
    "# Print out the r-squared value along with the plot.\n",
    "\n",
    "print(f\"The r-squared is: {rvalue**2}\")"
   ]
  },
  {
   "cell_type": "markdown",
   "metadata": {},
   "source": [
    "####  Northern Hemisphere - Wind Speed (mph) vs. Latitude Linear Regression"
   ]
  },
  {
   "cell_type": "code",
   "execution_count": null,
   "metadata": {},
   "outputs": [],
   "source": [
    "* The r-squared is 0.80 % not stronger fit. \n",
    "* There is no obvious pattern to show the relationship between two variables. "
   ]
  },
  {
   "cell_type": "code",
   "execution_count": null,
   "metadata": {},
   "outputs": [],
   "source": [
    "x = n_hemisphere['Lat']\n",
    "y = n_hemisphere['Wind Speed']\n",
    "\n",
    "\n",
    "(slope, intercept, rvalue, pvalue, stderr) = linregress(x,y )\n",
    "\n",
    "regress_values = x * slope + intercept\n",
    "\n",
    "line_eq = \"y = \" + str(round(slope,2)) + \"x + \" + str(round(intercept,2))\n",
    "plt.scatter(x, y, marker = 'o',color = 'blue', edgecolor='black')\n",
    "plt.plot(x,regress_values, '-r')\n",
    "\n",
    "# Incorporate the other graph properties\n",
    "plt.annotate(line_eq,(10,15),fontsize=20, color=\"red\", )\n",
    "plt.title(\"Northtern Hemisphere - Wind Speed vs Latitude\")\n",
    "plt.ylabel(\"Wind Speed\")\n",
    "plt.xlabel(\"Latitude\")\n",
    "\n",
    "\n",
    "# Show plot\n",
    "plt.show()"
   ]
  },
  {
   "cell_type": "code",
   "execution_count": null,
   "metadata": {},
   "outputs": [],
   "source": [
    "# Print out the r-squared value along with the plot.\n",
    "\n",
    "print(f\"The r-squared is: {rvalue**2}\")"
   ]
  },
  {
   "cell_type": "markdown",
   "metadata": {},
   "source": [
    "####  Southern Hemisphere - Wind Speed (mph) vs. Latitude Linear Regression"
   ]
  },
  {
   "cell_type": "code",
   "execution_count": null,
   "metadata": {},
   "outputs": [],
   "source": [
    "* The r-squared is 6.89% not stronger fit. \n",
    "* There is no obvious pattern to show the relationship between two variables. "
   ]
  },
  {
   "cell_type": "code",
   "execution_count": null,
   "metadata": {},
   "outputs": [],
   "source": [
    "x = s_hemisphere['Lat']\n",
    "y = s_hemisphere['Wind Speed']\n",
    "\n",
    "\n",
    "(slope, intercept, rvalue, pvalue, stderr) = linregress(x,y )\n",
    "\n",
    "regress_values = x * slope + intercept\n",
    "\n",
    "line_eq = \"y = \" + str(round(slope,2)) + \"x + \" + str(round(intercept,2))\n",
    "plt.scatter(x,y, marker = 'o',color = 'blue', edgecolor='black')\n",
    "plt.plot(x,regress_values, '-r')\n",
    "\n",
    "# Incorporate the other graph properties\n",
    "plt.annotate(line_eq,(-50,9),fontsize=20, color=\"red\", )\n",
    "plt.title(\"Southtern Hemisphere - Wind Speed vs Latitude\")\n",
    "plt.ylabel(\"Wind Speed\")\n",
    "plt.xlabel(\"Latitude\")\n",
    "\n",
    "\n",
    "# Show plot\n",
    "plt.show()"
   ]
  },
  {
   "cell_type": "code",
   "execution_count": null,
   "metadata": {},
   "outputs": [],
   "source": [
    "# Print out the r-squared value along with the plot.\n",
    "\n",
    "print(f\"The r-squared is: {rvalue**2}\")"
   ]
  },
  {
   "cell_type": "code",
   "execution_count": null,
   "metadata": {},
   "outputs": [],
   "source": []
  }
 ],
 "metadata": {
  "anaconda-cloud": {},
  "kernel_info": {
   "name": "python3"
  },
  "kernelspec": {
   "display_name": "Python 3",
   "language": "python",
   "name": "python3"
  },
  "language_info": {
   "codemirror_mode": {
    "name": "ipython",
    "version": 3
   },
   "file_extension": ".py",
   "mimetype": "text/x-python",
   "name": "python",
   "nbconvert_exporter": "python",
   "pygments_lexer": "ipython3",
   "version": "3.8.5"
  },
  "latex_envs": {
   "LaTeX_envs_menu_present": true,
   "autoclose": false,
   "autocomplete": true,
   "bibliofile": "biblio.bib",
   "cite_by": "apalike",
   "current_citInitial": 1,
   "eqLabelWithNumbers": true,
   "eqNumInitial": 1,
   "hotkeys": {
    "equation": "Ctrl-E",
    "itemize": "Ctrl-I"
   },
   "labels_anchors": false,
   "latex_user_defs": false,
   "report_style_numbering": false,
   "user_envs_cfg": false
  },
  "nteract": {
   "version": "0.12.3"
  }
 },
 "nbformat": 4,
 "nbformat_minor": 2
}
