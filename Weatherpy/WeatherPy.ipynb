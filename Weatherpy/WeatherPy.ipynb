{
 "cells": [
  {
   "cell_type": "markdown",
   "metadata": {},
   "source": [
    "# WeatherPy\n",
    "----\n",
    "\n",
    "#### Note\n",
    "* Instructions have been included for each segment. You do not have to follow them exactly, but they are included to help you think through the steps."
   ]
  },
  {
   "cell_type": "markdown",
   "metadata": {},
   "source": [
    "# Observations and Insights\n",
    "\n",
    "* Based on the random data with 500 + cities, the result shows that there is the temperature reaches the highest point between latitudes 0 and 20. The temperature starts to fall when latitude increases.\n",
    "\n",
    "* For the Northern Hemisphere, r-squared is 77.93 % indicate variables between max temp and latitude which can be considered highly correlated and stronger negative relationship.\n",
    "\n",
    "* For the Southern Hemisphere, r-squared is 47.23 % lower than the midpoint that is not a stronger fit.\n",
    "\n",
    "* With random data, there are no cities that have humidity greater than 100%.\n"
   ]
  },
  {
   "cell_type": "code",
   "execution_count": 8,
   "metadata": {
    "scrolled": true
   },
   "outputs": [],
   "source": [
    "# Dependencies and Setup\n",
    "import matplotlib.pyplot as plt\n",
    "import pandas as pd\n",
    "import numpy as np\n",
    "import requests\n",
    "import time\n",
    "from scipy.stats import linregress\n",
    "import json\n",
    "\n",
    "# Import API key\n",
    "from api_keys import weather_api_key\n",
    "\n",
    "# Incorporated citipy to determine city based on latitude and longitude\n",
    "from citipy import citipy\n",
    "\n",
    "# Output File (CSV)\n",
    "output_data_file = \"output_data/cities.csv\"\n",
    "\n",
    "\n",
    "# Range of latitudes and longitudes\n",
    "lat_range = (-90, 90)\n",
    "lng_range = (-180, 180)"
   ]
  },
  {
   "cell_type": "markdown",
   "metadata": {},
   "source": [
    "## Generate Cities List"
   ]
  },
  {
   "cell_type": "code",
   "execution_count": 9,
   "metadata": {},
   "outputs": [
    {
     "data": {
      "text/plain": [
       "626"
      ]
     },
     "execution_count": 9,
     "metadata": {},
     "output_type": "execute_result"
    }
   ],
   "source": [
    "# List for holding lat_lngs and cities\n",
    "lat_lngs = []\n",
    "cities = []\n",
    "\n",
    "# Create a set of random lat and lng combinations\n",
    "lats = np.random.uniform(lat_range[0], lat_range[1], size=1500)\n",
    "lngs = np.random.uniform(lng_range[0], lng_range[1], size=1500)\n",
    "lat_lngs = zip(lats, lngs)\n",
    "\n",
    "# Identify nearest city for each lat, lng combination\n",
    "for lat_lng in lat_lngs:\n",
    "    city = citipy.nearest_city(lat_lng[0], lat_lng[1]).city_name\n",
    "    \n",
    "    # If the city is unique, then add it to a our cities list\n",
    "    if city not in cities:\n",
    "        cities.append(city)\n",
    "\n",
    "# Print the city count to confirm sufficient count\n",
    "len(cities)"
   ]
  },
  {
   "cell_type": "markdown",
   "metadata": {},
   "source": [
    "### Perform API Calls\n",
    "* Perform a weather check on each city using a series of successive API calls.\n",
    "* Include a print log of each city as it'sbeing processed (with the city number and city name).\n"
   ]
  },
  {
   "cell_type": "code",
   "execution_count": 10,
   "metadata": {},
   "outputs": [
    {
     "data": {
      "text/plain": [
       "{'coord': {'lon': -159.775, 'lat': -21.2078},\n",
       " 'weather': [{'id': 804,\n",
       "   'main': 'Clouds',\n",
       "   'description': 'overcast clouds',\n",
       "   'icon': '04n'}],\n",
       " 'base': 'stations',\n",
       " 'main': {'temp': 26,\n",
       "  'feels_like': 26,\n",
       "  'temp_min': 26,\n",
       "  'temp_max': 26,\n",
       "  'pressure': 1014,\n",
       "  'humidity': 89},\n",
       " 'visibility': 10000,\n",
       " 'wind': {'speed': 0.51, 'deg': 190},\n",
       " 'clouds': {'all': 99},\n",
       " 'dt': 1619680332,\n",
       " 'sys': {'type': 1,\n",
       "  'id': 7271,\n",
       "  'country': 'CK',\n",
       "  'sunrise': 1619628930,\n",
       "  'sunset': 1619669837},\n",
       " 'timezone': -36000,\n",
       " 'id': 4035715,\n",
       " 'name': 'Avarua',\n",
       " 'cod': 200}"
      ]
     },
     "execution_count": 10,
     "metadata": {},
     "output_type": "execute_result"
    }
   ],
   "source": [
    "#Set url for API\n",
    "\n",
    "url = \"http://api.openweathermap.org/data/2.5/weather?\"\n",
    "units = \"metric\"\n",
    "query_url = f\"{url}appid={weather_api_key}&units={units}&q=\"\n",
    "response = requests.get(query_url + city).json()\n",
    "response\n"
   ]
  },
  {
   "cell_type": "code",
   "execution_count": 11,
   "metadata": {},
   "outputs": [
    {
     "name": "stdout",
     "output_type": "stream",
     "text": [
      "Beginning Data Retrieval\n",
      "---------------------------\n",
      "Processing Record:1  | ushuaia\n",
      "Processing Record:2  | cape town\n",
      "Processing Record:3  | jamestown\n",
      "Processing Record:4  | cabo san lucas\n",
      "Processing Record:5  | coahuayana\n",
      "Processing Record:6  | puerto ayora\n",
      "Processing Record:7  | constitucion\n",
      "Processing Record:8  | santo domingo\n",
      "Processing Record:9  | kruisfontein\n",
      "Processing Record:10  | bluff\n",
      "Processing Record:11  | avarua\n",
      "Processing Record:12  | port augusta\n",
      "Processing Record:13  | ambulu\n",
      "Processing Record:14  | castro\n",
      "Processing Record:15  | punta arenas\n",
      "City not found. Skipping...\n",
      "Processing Record:17  | lompoc\n",
      "Processing Record:18  | hermanus\n",
      "Processing Record:19  | rikitea\n",
      "Processing Record:20  | maragogi\n",
      "Processing Record:21  | vilyuysk\n",
      "Processing Record:22  | lebu\n",
      "Processing Record:23  | sambava\n",
      "Processing Record:24  | tuktoyaktuk\n",
      "City not found. Skipping...\n",
      "Processing Record:26  | vaini\n",
      "Processing Record:27  | naze\n",
      "Processing Record:28  | chicama\n",
      "Processing Record:29  | kyra\n",
      "Processing Record:30  | kapaa\n",
      "Processing Record:31  | bredasdorp\n",
      "Processing Record:32  | dikson\n",
      "City not found. Skipping...\n",
      "Processing Record:34  | nikolskoye\n",
      "Processing Record:35  | busselton\n",
      "Processing Record:36  | yellowknife\n",
      "City not found. Skipping...\n",
      "Processing Record:38  | east london\n",
      "Processing Record:39  | maceio\n",
      "Processing Record:40  | norman wells\n",
      "Processing Record:41  | sao joao da barra\n",
      "Processing Record:42  | toyooka\n",
      "Processing Record:43  | new norfolk\n",
      "Processing Record:44  | rivne\n",
      "City not found. Skipping...\n",
      "Processing Record:46  | albany\n",
      "Processing Record:47  | guanica\n",
      "Processing Record:48  | port alfred\n",
      "Processing Record:49  | saint-philippe\n",
      "Processing Record:50  | nishihara\n",
      "Processing Record:51  | ngunguru\n",
      "Processing Record:52  | banyo\n",
      "Processing Record:53  | kamaishi\n",
      "Processing Record:54  | kyshtovka\n",
      "Processing Record:55  | zapolyarnyy\n",
      "Processing Record:56  | tiarei\n",
      "City not found. Skipping...\n",
      "Processing Record:58  | taltal\n",
      "Processing Record:59  | barrow\n",
      "Processing Record:60  | souillac\n",
      "Processing Record:61  | saint george\n",
      "Processing Record:62  | grants\n",
      "City not found. Skipping...\n",
      "Processing Record:64  | diego de almagro\n",
      "Processing Record:65  | hobart\n",
      "Processing Record:66  | koshurnikovo\n",
      "City not found. Skipping...\n",
      "Processing Record:68  | khatanga\n",
      "Processing Record:69  | thunder bay\n",
      "Processing Record:70  | encruzilhada do sul\n",
      "Processing Record:71  | muros\n",
      "Processing Record:72  | tera\n",
      "Processing Record:73  | inongo\n",
      "Processing Record:74  | san patricio\n",
      "Processing Record:75  | pevek\n",
      "Processing Record:76  | mataura\n",
      "Processing Record:77  | raudeberg\n",
      "Processing Record:78  | longyearbyen\n",
      "Processing Record:79  | thompson\n",
      "City not found. Skipping...\n",
      "Processing Record:81  | vila velha\n",
      "Processing Record:82  | cividale del friuli\n",
      "Processing Record:83  | kathu\n",
      "Processing Record:84  | santa catarina de tepehuanes\n",
      "Processing Record:85  | mar del plata\n",
      "Processing Record:86  | airai\n",
      "City not found. Skipping...\n",
      "Processing Record:88  | plettenberg bay\n",
      "Processing Record:89  | gat\n",
      "Processing Record:90  | nyrob\n",
      "Processing Record:91  | paamiut\n",
      "Processing Record:92  | qasigiannguit\n",
      "Processing Record:93  | kahului\n",
      "Processing Record:94  | hambantota\n",
      "Processing Record:95  | birao\n",
      "Processing Record:96  | mumford\n",
      "Processing Record:97  | ostrovnoy\n",
      "Processing Record:98  | provideniya\n",
      "Processing Record:99  | dwarka\n",
      "Processing Record:100  | padang\n",
      "Processing Record:101  | vila\n",
      "Processing Record:102  | port lincoln\n",
      "Processing Record:103  | cherskiy\n",
      "Processing Record:104  | katangli\n",
      "City not found. Skipping...\n",
      "Processing Record:106  | ayabaca\n",
      "Processing Record:107  | waipawa\n",
      "Processing Record:108  | olafsvik\n",
      "City not found. Skipping...\n",
      "Processing Record:110  | la maddalena\n",
      "Processing Record:111  | igrim\n",
      "Processing Record:112  | saint-leu\n",
      "Processing Record:113  | broken hill\n",
      "Processing Record:114  | pimenteiras\n",
      "Processing Record:115  | chateaudun\n",
      "Processing Record:116  | sinegorye\n",
      "Processing Record:117  | athabasca\n",
      "Processing Record:118  | butaritari\n",
      "City not found. Skipping...\n",
      "Processing Record:120  | ponta do sol\n",
      "Processing Record:121  | manado\n",
      "Processing Record:122  | chokurdakh\n",
      "Processing Record:123  | aswan\n",
      "Processing Record:124  | gazli\n",
      "Processing Record:125  | pisco\n",
      "Processing Record:126  | tairua\n",
      "Processing Record:127  | vao\n",
      "Processing Record:128  | nome\n",
      "Processing Record:129  | carnarvon\n",
      "City not found. Skipping...\n",
      "Processing Record:131  | aitape\n",
      "Processing Record:132  | salinas\n",
      "Processing Record:133  | yeppoon\n",
      "Processing Record:134  | qaanaaq\n",
      "Processing Record:135  | la ronge\n",
      "Processing Record:136  | dicabisagan\n",
      "Processing Record:137  | kropotkin\n",
      "Processing Record:138  | saldanha\n",
      "Processing Record:139  | kodiak\n",
      "Processing Record:140  | port elizabeth\n",
      "Processing Record:141  | pangnirtung\n",
      "Processing Record:142  | aktash\n",
      "Processing Record:143  | tevaitoa\n",
      "Processing Record:144  | turbat\n",
      "Processing Record:145  | anadyr\n",
      "Processing Record:146  | bengkulu\n",
      "Processing Record:147  | quesnel\n",
      "Processing Record:148  | hithadhoo\n",
      "Processing Record:149  | belyy yar\n",
      "Processing Record:150  | san carlos del zulia\n",
      "Processing Record:151  | san rafael\n",
      "Processing Record:152  | pochutla\n",
      "Processing Record:153  | porto novo\n",
      "Processing Record:154  | cartagena\n",
      "Processing Record:155  | tiksi\n",
      "City not found. Skipping...\n",
      "Processing Record:157  | georgetown\n",
      "Processing Record:158  | coquimbo\n",
      "Processing Record:159  | mount isa\n",
      "Processing Record:160  | aksarka\n",
      "Processing Record:161  | phek\n",
      "Processing Record:162  | cidreira\n",
      "City not found. Skipping...\n",
      "Processing Record:164  | guerrero negro\n",
      "Processing Record:165  | atuona\n",
      "Processing Record:166  | inirida\n",
      "Processing Record:167  | hasaki\n",
      "Processing Record:168  | abrau-dyurso\n",
      "Processing Record:169  | the pas\n",
      "City not found. Skipping...\n",
      "Processing Record:171  | havre-saint-pierre\n",
      "Processing Record:172  | flinders\n",
      "Processing Record:173  | mirnyy\n",
      "City not found. Skipping...\n",
      "Processing Record:175  | veraval\n",
      "Processing Record:176  | kansanshi\n",
      "Processing Record:177  | caibarien\n",
      "Processing Record:178  | esperance\n",
      "Processing Record:179  | kushmurun\n",
      "Processing Record:180  | bakchar\n",
      "Processing Record:181  | kuytun\n",
      "Processing Record:182  | parabita\n",
      "Processing Record:183  | el limon\n",
      "Processing Record:184  | severnyy\n",
      "Processing Record:185  | coromandel\n",
      "Processing Record:186  | chingirlau\n",
      "Processing Record:187  | erzin\n",
      "Processing Record:188  | murgab\n",
      "Processing Record:189  | alihe\n",
      "Processing Record:190  | iqaluit\n",
      "Processing Record:191  | ilek\n",
      "Processing Record:192  | egvekinot\n",
      "Processing Record:193  | hofn\n",
      "Processing Record:194  | juru\n",
      "Processing Record:195  | requena\n",
      "Processing Record:196  | richards bay\n",
      "Processing Record:197  | san cristobal\n",
      "Processing Record:198  | turinsk\n",
      "Processing Record:199  | vostok\n",
      "Processing Record:200  | narsaq\n",
      "Processing Record:201  | comendador\n",
      "Processing Record:202  | manta\n",
      "Processing Record:203  | uvira\n",
      "Processing Record:204  | half moon bay\n",
      "City not found. Skipping...\n",
      "Processing Record:206  | santa cruz\n",
      "Processing Record:207  | sinnamary\n",
      "Processing Record:208  | rio grande\n",
      "Processing Record:209  | manaus\n",
      "Processing Record:210  | arraial do cabo\n",
      "City not found. Skipping...\n",
      "Processing Record:212  | bambous virieux\n",
      "Processing Record:213  | yukon\n",
      "Processing Record:214  | najran\n",
      "Processing Record:215  | sebeta\n",
      "Processing Record:216  | saskylakh\n",
      "Processing Record:217  | ivanovka\n",
      "Processing Record:218  | tasiilaq\n",
      "Processing Record:219  | severo-kurilsk\n",
      "Processing Record:220  | tombouctou\n",
      "Processing Record:221  | rangapara\n",
      "Processing Record:222  | chuy\n",
      "Processing Record:223  | aldan\n",
      "Processing Record:224  | agadez\n",
      "Processing Record:225  | zemio\n",
      "Processing Record:226  | redcliffe\n",
      "Processing Record:227  | abu dhabi\n",
      "Processing Record:228  | barra do corda\n",
      "City not found. Skipping...\n",
      "Processing Record:230  | kaitangata\n",
      "Processing Record:231  | krasnoselkup\n",
      "Processing Record:232  | hervey bay\n",
      "Processing Record:233  | dudinka\n",
      "Processing Record:234  | moerai\n",
      "Processing Record:235  | hailar\n",
      "Processing Record:236  | kem\n",
      "Processing Record:237  | hobyo\n",
      "Processing Record:238  | gisborne\n",
      "Processing Record:239  | samarai\n",
      "Processing Record:240  | nanortalik\n",
      "Processing Record:241  | hilo\n",
      "Processing Record:242  | korla\n",
      "Processing Record:243  | cabedelo\n",
      "Processing Record:244  | mbuji-mayi\n"
     ]
    },
    {
     "name": "stdout",
     "output_type": "stream",
     "text": [
      "Processing Record:245  | ondjiva\n",
      "Processing Record:246  | puerto escondido\n",
      "Processing Record:247  | ust-ilimsk\n",
      "Processing Record:248  | myitkyina\n",
      "Processing Record:249  | beyneu\n",
      "Processing Record:250  | doka\n",
      "Processing Record:251  | pangody\n",
      "Processing Record:252  | gualaquiza\n",
      "Processing Record:253  | nago\n",
      "Processing Record:254  | katobu\n",
      "Processing Record:255  | pacific grove\n",
      "Processing Record:256  | champerico\n",
      "Processing Record:257  | port hedland\n",
      "Processing Record:258  | khandbari\n",
      "Processing Record:259  | mizdah\n",
      "City not found. Skipping...\n",
      "Processing Record:261  | leningradskiy\n",
      "Processing Record:262  | ocean city\n",
      "Processing Record:263  | coari\n",
      "Processing Record:264  | ulladulla\n",
      "City not found. Skipping...\n",
      "Processing Record:266  | tommot\n",
      "City not found. Skipping...\n",
      "Processing Record:268  | fukue\n",
      "Processing Record:269  | xalpatlahuac\n",
      "Processing Record:270  | chelno-vershiny\n",
      "Processing Record:271  | edd\n",
      "Processing Record:272  | ahipara\n",
      "Processing Record:273  | pangai\n",
      "Processing Record:274  | havoysund\n",
      "Processing Record:275  | nikolayevsk-na-amure\n",
      "Processing Record:276  | kasongo-lunda\n",
      "Processing Record:277  | coxim\n",
      "Processing Record:278  | saurimo\n",
      "Processing Record:279  | dovolnoye\n",
      "Processing Record:280  | zhongshan\n",
      "Processing Record:281  | eskil\n",
      "Processing Record:282  | nioki\n",
      "Processing Record:283  | ilulissat\n",
      "Processing Record:284  | acapulco\n",
      "City not found. Skipping...\n",
      "Processing Record:286  | shenjiamen\n",
      "Processing Record:287  | mahon\n",
      "Processing Record:288  | grindavik\n",
      "Processing Record:289  | avera\n",
      "Processing Record:290  | mundo nuevo\n",
      "Processing Record:291  | newport\n",
      "Processing Record:292  | olinda\n",
      "Processing Record:293  | belmonte\n",
      "Processing Record:294  | gondanglegi\n",
      "Processing Record:295  | linqing\n",
      "Processing Record:296  | akdepe\n",
      "Processing Record:297  | portland\n",
      "City not found. Skipping...\n",
      "Processing Record:299  | mount gambier\n",
      "Processing Record:300  | codrington\n",
      "City not found. Skipping...\n",
      "Processing Record:302  | torbay\n",
      "Processing Record:303  | kondagaon\n",
      "Processing Record:304  | husavik\n",
      "Processing Record:305  | dingle\n",
      "Processing Record:306  | nouakchott\n",
      "Processing Record:307  | bubaque\n",
      "Processing Record:308  | launceston\n",
      "Processing Record:309  | agirish\n",
      "Processing Record:310  | bloomingdale\n",
      "Processing Record:311  | nador\n",
      "Processing Record:312  | bekeshevskaya\n",
      "Processing Record:313  | lapua\n",
      "Processing Record:314  | dalvik\n",
      "Processing Record:315  | cotorra\n",
      "Processing Record:316  | kaoma\n",
      "City not found. Skipping...\n",
      "Processing Record:318  | koslan\n",
      "Processing Record:319  | margate\n",
      "City not found. Skipping...\n",
      "Processing Record:321  | ribeira grande\n",
      "Processing Record:322  | marsh harbour\n",
      "Processing Record:323  | charters towers\n",
      "Processing Record:324  | victoria\n",
      "Processing Record:325  | dickinson\n",
      "Processing Record:326  | huilong\n",
      "Processing Record:327  | zhaotong\n",
      "Processing Record:328  | broome\n",
      "Processing Record:329  | clyde river\n",
      "Processing Record:330  | vila do maio\n",
      "Processing Record:331  | nam som\n",
      "Processing Record:332  | batagay-alyta\n",
      "Processing Record:333  | casablanca\n",
      "Processing Record:334  | grand-santi\n",
      "Processing Record:335  | sain alto\n",
      "Processing Record:336  | nuuk\n",
      "Processing Record:337  | hegang\n",
      "Processing Record:338  | san andres\n",
      "Processing Record:339  | abnub\n",
      "Processing Record:340  | kaseda\n",
      "Processing Record:341  | pitsunda\n",
      "Processing Record:342  | dire\n",
      "Processing Record:343  | poronaysk\n",
      "Processing Record:344  | obo\n",
      "Processing Record:345  | atikokan\n",
      "Processing Record:346  | geraldton\n",
      "Processing Record:347  | nouadhibou\n",
      "Processing Record:348  | pinawa\n",
      "City not found. Skipping...\n",
      "Processing Record:350  | boda\n",
      "Processing Record:351  | ulaanbaatar\n",
      "Processing Record:352  | sfantu gheorghe\n",
      "Processing Record:353  | mehamn\n",
      "Processing Record:354  | upernavik\n",
      "Processing Record:355  | urumqi\n",
      "Processing Record:356  | mastic beach\n",
      "City not found. Skipping...\n",
      "Processing Record:358  | necochea\n",
      "Processing Record:359  | arman\n",
      "Processing Record:360  | vanimo\n",
      "Processing Record:361  | zhigansk\n",
      "Processing Record:362  | ballina\n",
      "Processing Record:363  | wundanyi\n",
      "Processing Record:364  | shingu\n",
      "Processing Record:365  | dariba\n",
      "City not found. Skipping...\n",
      "Processing Record:367  | buala\n",
      "Processing Record:368  | henties bay\n",
      "Processing Record:369  | cap malheureux\n",
      "Processing Record:370  | te anau\n",
      "Processing Record:371  | majene\n",
      "Processing Record:372  | genhe\n",
      "Processing Record:373  | assiniboia\n",
      "Processing Record:374  | kipini\n",
      "Processing Record:375  | severo-yeniseyskiy\n",
      "Processing Record:376  | monster\n",
      "City not found. Skipping...\n",
      "Processing Record:378  | oriximina\n",
      "Processing Record:379  | atar\n",
      "Processing Record:380  | komsomolskiy\n",
      "Processing Record:381  | raga\n",
      "Processing Record:382  | kargasok\n",
      "Processing Record:383  | aklavik\n",
      "Processing Record:384  | yulara\n",
      "Processing Record:385  | bandarbeyla\n",
      "Processing Record:386  | gamba\n",
      "Processing Record:387  | patna\n",
      "Processing Record:388  | luau\n",
      "Processing Record:389  | kaeo\n",
      "Processing Record:390  | gorontalo\n",
      "Processing Record:391  | teya\n",
      "Processing Record:392  | chistogorskiy\n",
      "Processing Record:393  | rocha\n",
      "Processing Record:394  | alice springs\n",
      "Processing Record:395  | golden\n",
      "Processing Record:396  | sao filipe\n",
      "Processing Record:397  | arandis\n",
      "Processing Record:398  | aliwal north\n",
      "Processing Record:399  | three hills\n",
      "Processing Record:400  | caravelas\n",
      "Processing Record:401  | bambanglipuro\n",
      "Processing Record:402  | dhidhdhoo\n",
      "Processing Record:403  | bunia\n",
      "City not found. Skipping...\n",
      "Processing Record:405  | shimoda\n",
      "Processing Record:406  | mackay\n",
      "Processing Record:407  | mamburao\n",
      "Processing Record:408  | north platte\n",
      "Processing Record:409  | turukhansk\n",
      "Processing Record:410  | bulungu\n",
      "Processing Record:411  | nisia floresta\n",
      "Processing Record:412  | andra\n",
      "Processing Record:413  | goderich\n",
      "Processing Record:414  | abbeville\n",
      "Processing Record:415  | trinidad\n",
      "Processing Record:416  | whyalla\n",
      "Processing Record:417  | churapcha\n",
      "Processing Record:418  | betong\n",
      "Processing Record:419  | vitim\n",
      "City not found. Skipping...\n",
      "Processing Record:421  | twin falls\n",
      "City not found. Skipping...\n",
      "Processing Record:423  | fortuna\n",
      "Processing Record:424  | shellbrook\n",
      "Processing Record:425  | semey\n",
      "Processing Record:426  | makaha\n",
      "Processing Record:427  | salalah\n",
      "Processing Record:428  | tuatapere\n",
      "Processing Record:429  | quatre cocos\n",
      "Processing Record:430  | yamada\n",
      "Processing Record:431  | dalby\n",
      "Processing Record:432  | tagab\n",
      "Processing Record:433  | kavieng\n",
      "Processing Record:434  | haines junction\n",
      "Processing Record:435  | sisimiut\n",
      "Processing Record:436  | timmins\n",
      "Processing Record:437  | makokou\n",
      "Processing Record:438  | natal\n",
      "Processing Record:439  | vierzon\n",
      "City not found. Skipping...\n",
      "Processing Record:441  | aleksandrovskoye\n",
      "City not found. Skipping...\n",
      "Processing Record:443  | sisak\n",
      "Processing Record:444  | carahue\n",
      "Processing Record:445  | coihaique\n",
      "Processing Record:446  | vestmanna\n",
      "Processing Record:447  | miandoab\n",
      "Processing Record:448  | cabanas\n",
      "Processing Record:449  | montlucon\n",
      "Processing Record:450  | zyryanka\n",
      "Processing Record:451  | fairbanks\n",
      "Processing Record:452  | alpena\n",
      "Processing Record:453  | camacupa\n",
      "Processing Record:454  | ebeltoft\n",
      "Processing Record:455  | kavaratti\n",
      "Processing Record:456  | dali\n",
      "Processing Record:457  | trairi\n",
      "Processing Record:458  | bujak\n",
      "Processing Record:459  | namibe\n",
      "Processing Record:460  | poum\n",
      "Processing Record:461  | tomari\n",
      "City not found. Skipping...\n",
      "Processing Record:463  | college\n",
      "Processing Record:464  | waingapu\n",
      "Processing Record:465  | rimbey\n",
      "Processing Record:466  | tual\n",
      "Processing Record:467  | denpasar\n",
      "Processing Record:468  | panguna\n",
      "Processing Record:469  | armidale\n",
      "Processing Record:470  | salmas\n",
      "Processing Record:471  | yei\n",
      "Processing Record:472  | bahir dar\n",
      "Processing Record:473  | magadan\n",
      "Processing Record:474  | port hardy\n",
      "Processing Record:475  | alofi\n",
      "Processing Record:476  | sabang\n",
      "Processing Record:477  | paragominas\n",
      "Processing Record:478  | matamoros\n",
      "City not found. Skipping...\n",
      "Processing Record:480  | saint anthony\n",
      "City not found. Skipping...\n",
      "Processing Record:482  | mpongwe\n",
      "City not found. Skipping...\n",
      "Processing Record:484  | along\n",
      "Processing Record:485  | udachnyy\n",
      "City not found. Skipping...\n",
      "Processing Record:487  | kupang\n",
      "Processing Record:488  | tyumentsevo\n",
      "Processing Record:489  | general pico\n"
     ]
    },
    {
     "name": "stdout",
     "output_type": "stream",
     "text": [
      "Processing Record:490  | areosa\n",
      "Processing Record:491  | kalemie\n",
      "Processing Record:492  | el vendrell\n",
      "Processing Record:493  | namatanai\n",
      "Processing Record:494  | ati\n",
      "Processing Record:495  | campoverde\n",
      "City not found. Skipping...\n",
      "Processing Record:497  | tha chang\n",
      "Processing Record:498  | wagar\n",
      "Processing Record:499  | linxia\n",
      "Processing Record:500  | yumen\n",
      "Processing Record:501  | dubbo\n",
      "Processing Record:502  | ust-kut\n",
      "City not found. Skipping...\n",
      "City not found. Skipping...\n",
      "Processing Record:505  | elizabeth city\n",
      "Processing Record:506  | bereda\n",
      "Processing Record:507  | pacasmayo\n",
      "Processing Record:508  | dunedin\n",
      "Processing Record:509  | minot\n",
      "Processing Record:510  | lamar\n",
      "Processing Record:511  | ekuvukeni\n",
      "Processing Record:512  | nieuwpoort\n",
      "City not found. Skipping...\n",
      "Processing Record:514  | makakilo city\n",
      "Processing Record:515  | mpanda\n",
      "Processing Record:516  | cody\n",
      "Processing Record:517  | aljezur\n",
      "Processing Record:518  | baherden\n",
      "Processing Record:519  | gulabpura\n",
      "Processing Record:520  | mayo\n",
      "Processing Record:521  | pabrade\n",
      "City not found. Skipping...\n",
      "Processing Record:523  | hovd\n",
      "Processing Record:524  | lukulu\n",
      "Processing Record:525  | estrela\n",
      "Processing Record:526  | vilhena\n",
      "Processing Record:527  | villaviciosa\n",
      "Processing Record:528  | williams lake\n",
      "Processing Record:529  | talnakh\n",
      "Processing Record:530  | lagoa\n",
      "Processing Record:531  | bento goncalves\n",
      "Processing Record:532  | pokosnoye\n",
      "Processing Record:533  | morehead\n",
      "Processing Record:534  | hualmay\n",
      "Processing Record:535  | afyonkarahisar\n",
      "Processing Record:536  | languyan\n",
      "Processing Record:537  | srandakan\n",
      "Processing Record:538  | bathsheba\n",
      "Processing Record:539  | gigmoto\n",
      "Processing Record:540  | preobrazheniye\n",
      "Processing Record:541  | jalu\n",
      "Processing Record:542  | general roca\n",
      "Processing Record:543  | nemuro\n",
      "Processing Record:544  | cocobeach\n",
      "Processing Record:545  | mozarlandia\n",
      "Processing Record:546  | redmond\n",
      "Processing Record:547  | roald\n",
      "Processing Record:548  | faanui\n",
      "Processing Record:549  | biak\n",
      "Processing Record:550  | rawson\n",
      "Processing Record:551  | oranjemund\n",
      "Processing Record:552  | weligama\n",
      "Processing Record:553  | dunn\n",
      "Processing Record:554  | lungi\n",
      "Processing Record:555  | honningsvag\n",
      "Processing Record:556  | itamaraca\n",
      "Processing Record:557  | nhulunbuy\n",
      "Processing Record:558  | morondava\n",
      "Processing Record:559  | kapustin yar\n",
      "Processing Record:560  | meulaboh\n",
      "Processing Record:561  | coos bay\n",
      "Processing Record:562  | azuaga\n",
      "Processing Record:563  | krasnozatonskiy\n",
      "Processing Record:564  | alzamay\n",
      "Processing Record:565  | svetlyy yar\n",
      "Processing Record:566  | ayios nikolaos\n",
      "Processing Record:567  | anlu\n",
      "Processing Record:568  | north bend\n",
      "Processing Record:569  | keuruu\n",
      "Processing Record:570  | ellensburg\n",
      "Processing Record:571  | qaqortoq\n",
      "Processing Record:572  | palmer\n",
      "Processing Record:573  | harper\n",
      "Processing Record:574  | ko samui\n",
      "Processing Record:575  | fare\n",
      "Processing Record:576  | tessalit\n",
      "City not found. Skipping...\n",
      "Processing Record:578  | pundaguitan\n",
      "Processing Record:579  | ewa beach\n",
      "Processing Record:580  | tongling\n",
      "Processing Record:581  | manutuke\n",
      "Processing Record:582  | tilichiki\n",
      "Processing Record:583  | longkou\n",
      "Processing Record:584  | puerto baquerizo moreno\n",
      "Processing Record:585  | turayf\n",
      "Processing Record:586  | veshenskaya\n",
      "Processing Record:587  | leshukonskoye\n",
      "City not found. Skipping...\n",
      "Processing Record:589  | maracacume\n",
      "Processing Record:590  | buraydah\n",
      "Processing Record:591  | lamu\n",
      "Processing Record:592  | sola\n",
      "Processing Record:593  | borovskoy\n",
      "Processing Record:594  | san quintin\n",
      "Processing Record:595  | korem\n",
      "Processing Record:596  | marsa matruh\n",
      "City not found. Skipping...\n",
      "Processing Record:598  | catamarca\n",
      "Processing Record:599  | itaituba\n",
      "Processing Record:600  | koroni\n",
      "Processing Record:601  | salta\n",
      "Processing Record:602  | brae\n",
      "Processing Record:603  | yar-sale\n",
      "Processing Record:604  | leh\n",
      "Processing Record:605  | garachine\n",
      "Processing Record:606  | juneau\n",
      "Processing Record:607  | bilibino\n",
      "Processing Record:608  | fuzhou\n",
      "Processing Record:609  | cayenne\n",
      "Processing Record:610  | mahebourg\n",
      "Processing Record:611  | tiznit\n",
      "Processing Record:612  | mehran\n",
      "Processing Record:613  | bethel\n",
      "Processing Record:614  | seymchan\n",
      "Processing Record:615  | karratha\n",
      "Processing Record:616  | srednekolymsk\n",
      "Processing Record:617  | antofagasta\n",
      "Processing Record:618  | asau\n",
      "Processing Record:619  | arroyo\n",
      "Processing Record:620  | sungaipenuh\n",
      "Processing Record:621  | cajamar\n",
      "Processing Record:622  | tura\n",
      "Processing Record:623  | volkhov\n",
      "Processing Record:624  | kokstad\n",
      "Processing Record:625  | magdalena\n",
      "Processing Record:626  | deputatskiy\n",
      "---------------------------\n",
      "Data Retrieval Complete \n",
      "---------------------------\n"
     ]
    }
   ],
   "source": [
    "# Set empty lists\n",
    "\n",
    "city_list = []\n",
    "lat_list = []\n",
    "lng_list = []\n",
    "max_temp = []\n",
    "humidity = []\n",
    "cloudlness = []\n",
    "wind_speed = []\n",
    "country = []\n",
    "date = []\n",
    "\n",
    "#Loop through each citiy\n",
    "print(f'Beginning Data Retrieval')\n",
    "print('---------------------------')\n",
    "\n",
    "for index, city in enumerate (cities, start =1):\n",
    "    \n",
    "    try:\n",
    "        response = requests.get(query_url + city).json()\n",
    "        city_list.append(response['name'])                         \n",
    "        lat_list.append(response['coord']['lat'])\n",
    "        lng_list.append(response['coord']['lon'])\n",
    "        max_temp.append(response['main']['temp_max'])\n",
    "        humidity.append(response['main']['humidity'])\n",
    "        cloudlness.append(response['clouds']['all'])\n",
    "        wind_speed.append(response['wind']['speed'])\n",
    "        country.append(response['sys']['country'])\n",
    "        date.append(response['dt'])\n",
    "        x = len(cities)                     \n",
    "        print(f'Processing Record:{index}  | {city}')\n",
    "        \n",
    "    except (KeyError):\n",
    "        print(f'City not found. Skipping...')\n",
    "       \n",
    "    \n",
    "print('---------------------------')\n",
    "print(f'Data Retrieval Complete ')\n",
    "print('---------------------------')\n"
   ]
  },
  {
   "cell_type": "markdown",
   "metadata": {},
   "source": [
    "### Convert Raw Data to DataFrame\n",
    "* Export the city data into a .csv.\n",
    "* Display the DataFrame"
   ]
  },
  {
   "cell_type": "code",
   "execution_count": 35,
   "metadata": {},
   "outputs": [
    {
     "data": {
      "text/html": [
       "<div>\n",
       "<style scoped>\n",
       "    .dataframe tbody tr th:only-of-type {\n",
       "        vertical-align: middle;\n",
       "    }\n",
       "\n",
       "    .dataframe tbody tr th {\n",
       "        vertical-align: top;\n",
       "    }\n",
       "\n",
       "    .dataframe thead th {\n",
       "        text-align: right;\n",
       "    }\n",
       "</style>\n",
       "<table border=\"1\" class=\"dataframe\">\n",
       "  <thead>\n",
       "    <tr style=\"text-align: right;\">\n",
       "      <th></th>\n",
       "      <th>City</th>\n",
       "      <th>Lat</th>\n",
       "      <th>Lng</th>\n",
       "      <th>Max Temp</th>\n",
       "      <th>Humidity</th>\n",
       "      <th>Cloudlness</th>\n",
       "      <th>Wind Speed</th>\n",
       "      <th>Country</th>\n",
       "      <th>Date</th>\n",
       "    </tr>\n",
       "  </thead>\n",
       "  <tbody>\n",
       "    <tr>\n",
       "      <th>0</th>\n",
       "      <td>Ushuaia</td>\n",
       "      <td>-54.8000</td>\n",
       "      <td>-68.3000</td>\n",
       "      <td>3.00</td>\n",
       "      <td>75</td>\n",
       "      <td>40</td>\n",
       "      <td>10.29</td>\n",
       "      <td>AR</td>\n",
       "      <td>1619680342</td>\n",
       "    </tr>\n",
       "    <tr>\n",
       "      <th>1</th>\n",
       "      <td>Cape Town</td>\n",
       "      <td>-33.9258</td>\n",
       "      <td>18.4232</td>\n",
       "      <td>14.44</td>\n",
       "      <td>88</td>\n",
       "      <td>75</td>\n",
       "      <td>6.17</td>\n",
       "      <td>ZA</td>\n",
       "      <td>1619680159</td>\n",
       "    </tr>\n",
       "    <tr>\n",
       "      <th>2</th>\n",
       "      <td>Jamestown</td>\n",
       "      <td>42.0970</td>\n",
       "      <td>-79.2353</td>\n",
       "      <td>16.00</td>\n",
       "      <td>88</td>\n",
       "      <td>90</td>\n",
       "      <td>2.06</td>\n",
       "      <td>US</td>\n",
       "      <td>1619680112</td>\n",
       "    </tr>\n",
       "    <tr>\n",
       "      <th>3</th>\n",
       "      <td>Cabo San Lucas</td>\n",
       "      <td>22.8909</td>\n",
       "      <td>-109.9124</td>\n",
       "      <td>20.00</td>\n",
       "      <td>76</td>\n",
       "      <td>0</td>\n",
       "      <td>0.89</td>\n",
       "      <td>MX</td>\n",
       "      <td>1619680196</td>\n",
       "    </tr>\n",
       "    <tr>\n",
       "      <th>4</th>\n",
       "      <td>Coahuayana Viejo</td>\n",
       "      <td>18.7333</td>\n",
       "      <td>-103.6833</td>\n",
       "      <td>22.81</td>\n",
       "      <td>88</td>\n",
       "      <td>99</td>\n",
       "      <td>0.15</td>\n",
       "      <td>MX</td>\n",
       "      <td>1619680343</td>\n",
       "    </tr>\n",
       "  </tbody>\n",
       "</table>\n",
       "</div>"
      ],
      "text/plain": [
       "               City      Lat       Lng  Max Temp  Humidity  Cloudlness  \\\n",
       "0           Ushuaia -54.8000  -68.3000      3.00        75          40   \n",
       "1         Cape Town -33.9258   18.4232     14.44        88          75   \n",
       "2         Jamestown  42.0970  -79.2353     16.00        88          90   \n",
       "3    Cabo San Lucas  22.8909 -109.9124     20.00        76           0   \n",
       "4  Coahuayana Viejo  18.7333 -103.6833     22.81        88          99   \n",
       "\n",
       "   Wind Speed Country        Date  \n",
       "0       10.29      AR  1619680342  \n",
       "1        6.17      ZA  1619680159  \n",
       "2        2.06      US  1619680112  \n",
       "3        0.89      MX  1619680196  \n",
       "4        0.15      MX  1619680343  "
      ]
     },
     "execution_count": 35,
     "metadata": {},
     "output_type": "execute_result"
    }
   ],
   "source": [
    "#Create DataFrame\n",
    "\n",
    "weather_df = pd.DataFrame({'City': city_list,'Lat': lat_list,'Lng': lng_list,'Max Temp': max_temp,'Humidity': humidity,'Cloudlness': cloudlness,'Wind Speed': wind_speed,'Country': country,'Date': date})\n",
    "\n",
    "weather_df.head()\n"
   ]
  },
  {
   "cell_type": "code",
   "execution_count": 13,
   "metadata": {},
   "outputs": [],
   "source": [
    "# output city data \n",
    "\n",
    "weather_df.to_csv('output_data/cities.csv', index = False)"
   ]
  },
  {
   "cell_type": "code",
   "execution_count": 14,
   "metadata": {},
   "outputs": [
    {
     "data": {
      "text/html": [
       "<div>\n",
       "<style scoped>\n",
       "    .dataframe tbody tr th:only-of-type {\n",
       "        vertical-align: middle;\n",
       "    }\n",
       "\n",
       "    .dataframe tbody tr th {\n",
       "        vertical-align: top;\n",
       "    }\n",
       "\n",
       "    .dataframe thead th {\n",
       "        text-align: right;\n",
       "    }\n",
       "</style>\n",
       "<table border=\"1\" class=\"dataframe\">\n",
       "  <thead>\n",
       "    <tr style=\"text-align: right;\">\n",
       "      <th></th>\n",
       "      <th>Lat</th>\n",
       "      <th>Lng</th>\n",
       "      <th>Max Temp</th>\n",
       "      <th>Humidity</th>\n",
       "      <th>Cloudlness</th>\n",
       "      <th>Wind Speed</th>\n",
       "      <th>Date</th>\n",
       "    </tr>\n",
       "  </thead>\n",
       "  <tbody>\n",
       "    <tr>\n",
       "      <th>count</th>\n",
       "      <td>575.000000</td>\n",
       "      <td>575.000000</td>\n",
       "      <td>575.000000</td>\n",
       "      <td>575.000000</td>\n",
       "      <td>575.000000</td>\n",
       "      <td>575.000000</td>\n",
       "      <td>5.750000e+02</td>\n",
       "    </tr>\n",
       "    <tr>\n",
       "      <th>mean</th>\n",
       "      <td>19.877471</td>\n",
       "      <td>20.329234</td>\n",
       "      <td>16.487461</td>\n",
       "      <td>70.966957</td>\n",
       "      <td>57.535652</td>\n",
       "      <td>3.204539</td>\n",
       "      <td>1.619680e+09</td>\n",
       "    </tr>\n",
       "    <tr>\n",
       "      <th>std</th>\n",
       "      <td>33.756698</td>\n",
       "      <td>92.117851</td>\n",
       "      <td>10.766012</td>\n",
       "      <td>23.285921</td>\n",
       "      <td>39.237751</td>\n",
       "      <td>2.135367</td>\n",
       "      <td>9.145204e+01</td>\n",
       "    </tr>\n",
       "    <tr>\n",
       "      <th>min</th>\n",
       "      <td>-54.800000</td>\n",
       "      <td>-179.166700</td>\n",
       "      <td>-9.270000</td>\n",
       "      <td>1.000000</td>\n",
       "      <td>0.000000</td>\n",
       "      <td>0.100000</td>\n",
       "      <td>1.619680e+09</td>\n",
       "    </tr>\n",
       "    <tr>\n",
       "      <th>25%</th>\n",
       "      <td>-7.891650</td>\n",
       "      <td>-60.085400</td>\n",
       "      <td>8.045000</td>\n",
       "      <td>60.000000</td>\n",
       "      <td>19.500000</td>\n",
       "      <td>1.540000</td>\n",
       "      <td>1.619680e+09</td>\n",
       "    </tr>\n",
       "    <tr>\n",
       "      <th>50%</th>\n",
       "      <td>24.466700</td>\n",
       "      <td>25.783300</td>\n",
       "      <td>17.820000</td>\n",
       "      <td>75.000000</td>\n",
       "      <td>75.000000</td>\n",
       "      <td>2.780000</td>\n",
       "      <td>1.619680e+09</td>\n",
       "    </tr>\n",
       "    <tr>\n",
       "      <th>75%</th>\n",
       "      <td>48.528950</td>\n",
       "      <td>101.062950</td>\n",
       "      <td>24.605000</td>\n",
       "      <td>89.000000</td>\n",
       "      <td>99.000000</td>\n",
       "      <td>4.140000</td>\n",
       "      <td>1.619681e+09</td>\n",
       "    </tr>\n",
       "    <tr>\n",
       "      <th>max</th>\n",
       "      <td>78.218600</td>\n",
       "      <td>178.416700</td>\n",
       "      <td>41.100000</td>\n",
       "      <td>100.000000</td>\n",
       "      <td>100.000000</td>\n",
       "      <td>12.550000</td>\n",
       "      <td>1.619681e+09</td>\n",
       "    </tr>\n",
       "  </tbody>\n",
       "</table>\n",
       "</div>"
      ],
      "text/plain": [
       "              Lat         Lng    Max Temp    Humidity  Cloudlness  Wind Speed  \\\n",
       "count  575.000000  575.000000  575.000000  575.000000  575.000000  575.000000   \n",
       "mean    19.877471   20.329234   16.487461   70.966957   57.535652    3.204539   \n",
       "std     33.756698   92.117851   10.766012   23.285921   39.237751    2.135367   \n",
       "min    -54.800000 -179.166700   -9.270000    1.000000    0.000000    0.100000   \n",
       "25%     -7.891650  -60.085400    8.045000   60.000000   19.500000    1.540000   \n",
       "50%     24.466700   25.783300   17.820000   75.000000   75.000000    2.780000   \n",
       "75%     48.528950  101.062950   24.605000   89.000000   99.000000    4.140000   \n",
       "max     78.218600  178.416700   41.100000  100.000000  100.000000   12.550000   \n",
       "\n",
       "               Date  \n",
       "count  5.750000e+02  \n",
       "mean   1.619680e+09  \n",
       "std    9.145204e+01  \n",
       "min    1.619680e+09  \n",
       "25%    1.619680e+09  \n",
       "50%    1.619680e+09  \n",
       "75%    1.619681e+09  \n",
       "max    1.619681e+09  "
      ]
     },
     "execution_count": 14,
     "metadata": {},
     "output_type": "execute_result"
    }
   ],
   "source": [
    "weather_df.describe()"
   ]
  },
  {
   "cell_type": "markdown",
   "metadata": {},
   "source": [
    "## Inspect the data and remove the cities where the humidity > 100%.\n",
    "----\n",
    "Skip this step if there are no cities that have humidity > 100%. "
   ]
  },
  {
   "cell_type": "code",
   "execution_count": 15,
   "metadata": {},
   "outputs": [
    {
     "name": "stdout",
     "output_type": "stream",
     "text": [
      "There are cities that have humidity greater than 100%: 0\n"
     ]
    }
   ],
   "source": [
    "humidity_check = weather_df.loc[weather_df['Humidity'] > 100]['Humidity'].count()\n",
    "    \n",
    "print('There are cities that have humidity greater than 100%:',humidity_check)"
   ]
  },
  {
   "cell_type": "code",
   "execution_count": 16,
   "metadata": {},
   "outputs": [],
   "source": [
    "# Make a new DataFrame equal to the city data to drop all humidity outliers by index.\n",
    "# Passing \"inplace=False\" will make a copy of the city_data DataFrame, which we call \"clean_city_data\".\n"
   ]
  },
  {
   "cell_type": "markdown",
   "metadata": {},
   "source": [
    "## Plotting the Data\n",
    "* Use proper labeling of the plots using plot titles (including date of analysis) and axes labels.\n",
    "* Save the plotted figures as .pngs."
   ]
  },
  {
   "cell_type": "markdown",
   "metadata": {},
   "source": [
    "## Latitude vs. Temperature Plot"
   ]
  },
  {
   "cell_type": "markdown",
   "metadata": {},
   "source": [
    "* The temperature reaches the highest point between latitudes 0 and 20\n",
    "* Temperature starts fall when latitude increases"
   ]
  },
  {
   "cell_type": "code",
   "execution_count": 17,
   "metadata": {},
   "outputs": [
    {
     "data": {
      "image/png": "[encoded data removed]",
      "text/plain": [
       "<Figure size 432x288 with 1 Axes>"
      ]
     },
     "metadata": {
      "needs_background": "light"
     },
     "output_type": "display_data"
    }
   ],
   "source": [
    "#Build a scatter plot \n",
    "\n",
    "fig, ax = plt.subplots(figsize=(6, 4))\n",
    "plt.scatter(weather_df['Lat'], weather_df['Max Temp'], marker = 'o', color = 'blue', edgecolor='black')\n",
    "\n",
    "\n",
    "# Incorporate the other graph properties\n",
    "\n",
    "plt.title(\"City Latitude vs max Temperature (04/01/20)\")\n",
    "plt.ylabel(\" Max Temperature (F)\")\n",
    "plt.xlabel(\"Latitude\")\n",
    "plt.grid(True)\n",
    "\n",
    "# Save the image as .pngs\n",
    "\n",
    "plt.savefig('output_data/latitude vs temperature.png')\n",
    "\n",
    "# Show plot\n",
    "plt.show()\n",
    "\n",
    "\n"
   ]
  },
  {
   "cell_type": "markdown",
   "metadata": {},
   "source": [
    "## Latitude vs. Humidity Plot"
   ]
  },
  {
   "cell_type": "markdown",
   "metadata": {},
   "source": [
    "* The relationship between latitude and humidity across the entire range of the variable plotted. \n",
    "* There is no obvious pattern to make an assumption between the variables. "
   ]
  },
  {
   "cell_type": "code",
   "execution_count": 18,
   "metadata": {},
   "outputs": [
    {
     "data": {
      "image/png": "[encoded data removed]",
      "text/plain": [
       "<Figure size 432x288 with 1 Axes>"
      ]
     },
     "metadata": {
      "needs_background": "light"
     },
     "output_type": "display_data"
    }
   ],
   "source": [
    "fig, ax = plt.subplots(figsize=(6, 4))\n",
    "plt.scatter(weather_df['Lat'], weather_df['Humidity'], marker = 'o',color = 'blue', edgecolor='black')\n",
    "\n",
    "\n",
    "# Incorporate the other graph properties\n",
    "plt.title(\"City Latitude vs Humidity (04/01/20)\")\n",
    "plt.ylabel(\" Humidity(%)\")\n",
    "plt.xlabel(\"Latitude\")\n",
    "plt.grid(True)\n",
    "\n",
    "# Save the image as .pngs\n",
    "\n",
    "plt.savefig('output_data/latitude vs humidity.png')\n",
    "\n",
    "# Show plot\n",
    "plt.show()\n",
    "\n"
   ]
  },
  {
   "cell_type": "markdown",
   "metadata": {},
   "source": [
    "## Latitude vs. Cloudiness Plot"
   ]
  },
  {
   "cell_type": "markdown",
   "metadata": {},
   "source": [
    "* The relationship between latitude and cloudiness across the entire range of the variable plotted. \n",
    "* There is no obvious pattern to make an assumption between the variables. "
   ]
  },
  {
   "cell_type": "code",
   "execution_count": 20,
   "metadata": {},
   "outputs": [
    {
     "data": {
      "image/png": "[encoded data removed]",
      "text/plain": [
       "<Figure size 432x288 with 1 Axes>"
      ]
     },
     "metadata": {
      "needs_background": "light"
     },
     "output_type": "display_data"
    }
   ],
   "source": [
    "fig, ax = plt.subplots(figsize=(6, 4))\n",
    "plt.scatter(weather_df['Lat'], weather_df['Cloudlness'], marker = 'o', color = 'blue', edgecolor='black')\n",
    "\n",
    "\n",
    "# Incorporate the other graph properties\n",
    "plt.title(\"City Latitude vs Cloudiness (04/01/20)\")\n",
    "plt.ylabel(\" Cloudiness(%)\")\n",
    "plt.xlabel(\"Latitude\")\n",
    "plt.grid(True)\n",
    "\n",
    "# Save the image as .pngs\n",
    "\n",
    "plt.savefig('output_data/latitude vs cloudiness.png')\n",
    "\n",
    "# Show plot\n",
    "plt.show()\n",
    "\n"
   ]
  },
  {
   "cell_type": "markdown",
   "metadata": {},
   "source": [
    "## Latitude vs. Wind Speed Plot"
   ]
  },
  {
   "cell_type": "markdown",
   "metadata": {},
   "source": [
    "* The relationship between latitude and wind speed across the entire range of the variable plotted. \n",
    "* There is no obvious pattern to make an assumption between the variables. "
   ]
  },
  {
   "cell_type": "code",
   "execution_count": 21,
   "metadata": {
    "scrolled": true
   },
   "outputs": [
    {
     "data": {
      "image/png": "[encoded data removed]",
      "text/plain": [
       "<Figure size 432x288 with 1 Axes>"
      ]
     },
     "metadata": {
      "needs_background": "light"
     },
     "output_type": "display_data"
    }
   ],
   "source": [
    "fig, ax = plt.subplots(figsize=(6, 4))\n",
    "plt.scatter(weather_df['Lat'], weather_df['Wind Speed'], marker = 'o',color = 'blue', edgecolor='black')\n",
    "\n",
    "\n",
    "# Incorporate the other graph properties\n",
    "plt.title(\"City Latitude vs Wind Speed (04/01/20)\")\n",
    "plt.ylabel(\" Wind Speed (mph))\")\n",
    "plt.xlabel(\"Latitude\")\n",
    "plt.grid(True)\n",
    "\n",
    "# Save the image as .pngs\n",
    "\n",
    "plt.savefig('output_data/latitude vs wind speed.png')\n",
    "\n",
    "# Show plot\n",
    "plt.show()\n"
   ]
  },
  {
   "cell_type": "markdown",
   "metadata": {},
   "source": [
    "## Linear Regression"
   ]
  },
  {
   "cell_type": "code",
   "execution_count": 23,
   "metadata": {},
   "outputs": [],
   "source": [
    "n_hemisphere = weather_df.loc[weather_df['Lat'] >= 0]\n",
    "s_hemisphere = weather_df.loc[weather_df['Lat'] < 0]"
   ]
  },
  {
   "cell_type": "markdown",
   "metadata": {},
   "source": [
    "####  Northern Hemisphere - Max Temp vs. Latitude Linear Regression"
   ]
  },
  {
   "cell_type": "markdown",
   "metadata": {},
   "source": [
    "* The plot shows that there are stronger negative relationship between Northern Hemisphere max temp and latitude. \n",
    "* r-squared is 77.93 % indicate variables which can be considered highly coorelated and stronger fit. \n"
   ]
  },
  {
   "cell_type": "code",
   "execution_count": 25,
   "metadata": {},
   "outputs": [
    {
     "data": {
      "image/png": "[encoded data removed]",
      "text/plain": [
       "<Figure size 432x288 with 1 Axes>"
      ]
     },
     "metadata": {
      "needs_background": "light"
     },
     "output_type": "display_data"
    }
   ],
   "source": [
    "x = n_hemisphere['Lat']\n",
    "y = n_hemisphere['Max Temp']\n",
    "\n",
    "fig, ax = plt.subplots(figsize=(6, 4))\n",
    "(slope, intercept, rvalue, pvalue, stderr) = linregress(x,y )\n",
    "\n",
    "regress_values = x * slope + intercept\n",
    "\n",
    "line_eq = \"y = \" + str(round(slope,2)) + \"x + \" + str(round(intercept,2))\n",
    "plt.scatter(x, y, marker = 'o',color = 'blue', edgecolor='black')\n",
    "plt.plot(x,regress_values, '-r')\n",
    "\n",
    "# Incorporate the other graph properties\n",
    "plt.annotate(line_eq,xy=(0,0),fontsize=20, color=\"red\", xytext = (5,-5))\n",
    "plt.title(\"Northtern Hemisphere - Max Temp vs Latitude\")\n",
    "plt.ylabel(\"Max Temp \")\n",
    "plt.xlabel(\"Latitude\")\n",
    "\n",
    "# Save the image as .pngs\n",
    "\n",
    "plt.savefig('output_data/liner_N_lat vs temp.png')\n",
    "\n",
    "# Show plot\n",
    "plt.show()"
   ]
  },
  {
   "cell_type": "code",
   "execution_count": 26,
   "metadata": {},
   "outputs": [
    {
     "name": "stdout",
     "output_type": "stream",
     "text": [
      "The r-squared is: 0.7271701267421031\n"
     ]
    }
   ],
   "source": [
    "# Print out the r-squared value along with the plot.\n",
    "\n",
    "print(f\"The r-squared is: {rvalue**2}\")"
   ]
  },
  {
   "cell_type": "markdown",
   "metadata": {},
   "source": [
    "####  Southern Hemisphere - Max Temp vs. Latitude Linear Regression"
   ]
  },
  {
   "cell_type": "markdown",
   "metadata": {},
   "source": [
    "* The plot shows that there are negative relationship between Southern Hemisphere max temp and latitude. \n",
    "* r-squared is 47.23 % is lower than midpoint that is not stronger fit."
   ]
  },
  {
   "cell_type": "code",
   "execution_count": 27,
   "metadata": {},
   "outputs": [
    {
     "data": {
      "image/png": "[encoded data removed]",
      "text/plain": [
       "<Figure size 432x288 with 1 Axes>"
      ]
     },
     "metadata": {
      "needs_background": "light"
     },
     "output_type": "display_data"
    }
   ],
   "source": [
    "x = s_hemisphere['Lat']\n",
    "y = s_hemisphere['Max Temp']\n",
    "\n",
    "fig, ax = plt.subplots(figsize=(6, 4))\n",
    "(slope, intercept, rvalue, pvalue, stderr) = linregress(x,y )\n",
    "\n",
    "regress_values = x * slope + intercept\n",
    "\n",
    "line_eq = \"y = \" + str(round(slope,2)) + \"x + \" + str(round(intercept,2))\n",
    "plt.scatter(x, y, marker = 'o',color = 'blue', edgecolor='black')\n",
    "plt.plot(x,regress_values , '-r')\n",
    "\n",
    "# Incorporate the other graph properties\n",
    "plt.annotate(line_eq, xy = (-55,26),fontsize=20, color=\"red\")\n",
    "plt.title(\"Southtern Hemisphere - Max Temp vs Latitude\")\n",
    "plt.ylabel(\"Max Temp\")\n",
    "plt.xlabel(\"Latitude\")\n",
    "\n",
    "# Save the image as .pngs\n",
    "\n",
    "plt.savefig('output_data/liner_S_lat vs temp.png')\n",
    "\n",
    "\n",
    "# Show plot\n",
    "plt.show()"
   ]
  },
  {
   "cell_type": "code",
   "execution_count": 28,
   "metadata": {},
   "outputs": [
    {
     "name": "stdout",
     "output_type": "stream",
     "text": [
      "The r-squared is: 0.4279880895119689\n"
     ]
    }
   ],
   "source": [
    "# Print out the r-squared value along with the plot.\n",
    "\n",
    "print(f\"The r-squared is: {rvalue**2}\")"
   ]
  },
  {
   "cell_type": "markdown",
   "metadata": {},
   "source": [
    "####  Northern Hemisphere - Humidity (%) vs. Latitude Linear Regression"
   ]
  },
  {
   "cell_type": "markdown",
   "metadata": {},
   "source": [
    "* The r-squared is 4.74 % is not stronger fit. \n",
    "* The relationship between latitude and humidity across the entire range of the variable plotted. \n",
    "* There is no obvious pattern to make an assumption between the variables. "
   ]
  },
  {
   "cell_type": "code",
   "execution_count": 29,
   "metadata": {},
   "outputs": [
    {
     "data": {
      "image/png": "[encoded data removed]",
      "text/plain": [
       "<Figure size 432x288 with 1 Axes>"
      ]
     },
     "metadata": {
      "needs_background": "light"
     },
     "output_type": "display_data"
    }
   ],
   "source": [
    "x = n_hemisphere['Lat']\n",
    "y = n_hemisphere['Humidity']\n",
    "\n",
    "fig, ax = plt.subplots(figsize=(6, 4))\n",
    "(slope, intercept, rvalue, pvalue, stderr) = linregress(x,y )\n",
    "\n",
    "regress_values = x * slope + intercept\n",
    "\n",
    "line_eq = \"y = \" + str(round(slope,2)) + \"x + \" + str(round(intercept,2))\n",
    "plt.scatter(x, y, marker = 'o',color = 'blue', edgecolor='black')\n",
    "plt.plot(x,regress_values, '-r')\n",
    "\n",
    "# Incorporate the other graph properties\n",
    "plt.annotate(line_eq,xy = (35,10),fontsize=20, color=\"red\", )\n",
    "plt.title(\"Northtern Hemisphere - Humidity vs Latitude\")\n",
    "plt.ylabel(\"Humidity\")\n",
    "plt.xlabel(\"Latitude\")\n",
    "\n",
    "# Save the image as .pngs\n",
    "\n",
    "plt.savefig('output_data/liner_N_lat vs humidity.png')\n",
    "\n",
    "\n",
    "# Show plot\n",
    "plt.show()"
   ]
  },
  {
   "cell_type": "code",
   "execution_count": 30,
   "metadata": {},
   "outputs": [
    {
     "name": "stdout",
     "output_type": "stream",
     "text": [
      "The r-squared is: 0.027240121003914822\n"
     ]
    }
   ],
   "source": [
    "# Print out the r-squared value along with the plot.\n",
    "\n",
    "print(f\"The r-squared is: {rvalue**2}\")"
   ]
  },
  {
   "cell_type": "markdown",
   "metadata": {},
   "source": [
    "####  Southern Hemisphere - Humidity (%) vs. Latitude Linear Regression"
   ]
  },
  {
   "cell_type": "markdown",
   "metadata": {},
   "source": [
    "* The r-squared is 4.74 % is not stronger fit. \n",
    "* The relationship between latitude and humidity across the entire range of the variable plotted. \n",
    "* There is no obvious pattern to make an assumption between the variables. "
   ]
  },
  {
   "cell_type": "code",
   "execution_count": 31,
   "metadata": {},
   "outputs": [
    {
     "data": {
      "image/png": "[encoded data removed]",
      "text/plain": [
       "<Figure size 432x288 with 1 Axes>"
      ]
     },
     "metadata": {
      "needs_background": "light"
     },
     "output_type": "display_data"
    }
   ],
   "source": [
    "x = s_hemisphere['Lat']\n",
    "y = s_hemisphere['Humidity']\n",
    "\n",
    "fig, ax = plt.subplots(figsize=(6, 4))\n",
    "(slope, intercept, rvalue, pvalue, stderr) = linregress(x,y )\n",
    "\n",
    "regress_values = x * slope + intercept\n",
    "\n",
    "line_eq = \"y = \" + str(round(slope,2)) + \"x + \" + str(round(intercept,2))\n",
    "plt.scatter(x, y, marker = 'o',color = 'blue', edgecolor='black')\n",
    "plt.plot(x,regress_values, '-r')\n",
    "\n",
    "# Incorporate the other graph properties\n",
    "plt.annotate(line_eq,(-35,45),fontsize=20, color=\"red\", )\n",
    "plt.title(\"Southtern Hemisphere - Humidity vs Latitude\")\n",
    "plt.ylabel(\"Humidity\")\n",
    "plt.xlabel(\"Latitude\")\n",
    "\n",
    "# Save the image as .pngs\n",
    "\n",
    "plt.savefig('output_data/liner_S_lat vs humidity.png')\n",
    "\n",
    "\n",
    "# Show plot\n",
    "plt.show()"
   ]
  },
  {
   "cell_type": "code",
   "execution_count": 32,
   "metadata": {},
   "outputs": [
    {
     "name": "stdout",
     "output_type": "stream",
     "text": [
      "The r-squared is: 0.006112585931983117\n"
     ]
    }
   ],
   "source": [
    "# Print out the r-squared value along with the plot.\n",
    "\n",
    "print(f\"The r-squared is: {rvalue**2}\")"
   ]
  },
  {
   "cell_type": "markdown",
   "metadata": {},
   "source": [
    "####  Northern Hemisphere - Cloudiness (%) vs. Latitude Linear Regression"
   ]
  },
  {
   "cell_type": "markdown",
   "metadata": {},
   "source": [
    "* The r-squared is 2.61 % is not stronger fit. \n",
    "* The relationship between latitude and humidity across the entire range of the variable plotted. \n",
    "* There is no obvious pattern to make an assumption between the variables. "
   ]
  },
  {
   "cell_type": "code",
   "execution_count": 36,
   "metadata": {},
   "outputs": [
    {
     "data": {
      "image/png": "[encoded data removed]",
      "text/plain": [
       "<Figure size 432x288 with 1 Axes>"
      ]
     },
     "metadata": {
      "needs_background": "light"
     },
     "output_type": "display_data"
    }
   ],
   "source": [
    "x = n_hemisphere['Lat']\n",
    "y = n_hemisphere['Cloudlness']\n",
    "\n",
    "fig, ax = plt.subplots(figsize=(6, 4))\n",
    "(slope, intercept, rvalue, pvalue, stderr) = linregress(x,y )\n",
    "\n",
    "regress_values = x * slope + intercept\n",
    "\n",
    "line_eq = \"y = \" + str(round(slope,2)) + \"x + \" + str(round(intercept,2))\n",
    "plt.scatter(x, y, marker = 'o',color = 'blue', edgecolor='black')\n",
    "plt.plot(x,regress_values, '-r')\n",
    "\n",
    "# Incorporate the other graph properties\n",
    "plt.annotate(line_eq,(25,25),fontsize=20, color=\"red\", )\n",
    "plt.title(\"Northtern Hemisphere - Cloudiness vs Latitude\")\n",
    "plt.ylabel(\"Cloudiness\")\n",
    "plt.xlabel(\"Latitude\")\n",
    "\n",
    "# Save the image as .pngs\n",
    "\n",
    "plt.savefig('output_data/liner_N_lat vs cloudiness.png')\n",
    "\n",
    "\n",
    "\n",
    "# Show plot\n",
    "plt.show()"
   ]
  },
  {
   "cell_type": "code",
   "execution_count": 37,
   "metadata": {},
   "outputs": [
    {
     "name": "stdout",
     "output_type": "stream",
     "text": [
      "The r-squared is: 0.011506296351143296\n"
     ]
    }
   ],
   "source": [
    "# Print out the r-squared value along with the plot.\n",
    "\n",
    "print(f\"The r-squared is: {rvalue**2}\")"
   ]
  },
  {
   "cell_type": "markdown",
   "metadata": {},
   "source": [
    "####  Southern Hemisphere - Cloudiness (%) vs. Latitude Linear Regression"
   ]
  },
  {
   "cell_type": "markdown",
   "metadata": {},
   "source": [
    "* The r-squared is below zero not stronger fit. \n",
    "* The relationship between latitude and humidity across the entire range of the variable plotted. \n",
    "* There is no obvious pattern to show the relationship between two variables. "
   ]
  },
  {
   "cell_type": "code",
   "execution_count": 38,
   "metadata": {},
   "outputs": [
    {
     "data": {
      "image/png": "[encoded data removed]",
      "text/plain": [
       "<Figure size 432x288 with 1 Axes>"
      ]
     },
     "metadata": {
      "needs_background": "light"
     },
     "output_type": "display_data"
    }
   ],
   "source": [
    "x = s_hemisphere['Lat']\n",
    "y = s_hemisphere['Cloudlness']\n",
    "\n",
    "\n",
    "(slope, intercept, rvalue, pvalue, stderr) = linregress(x,y )\n",
    "\n",
    "regress_values = x * slope + intercept\n",
    "\n",
    "line_eq = \"y = \" + str(round(slope,2)) + \"x + \" + str(round(intercept,2))\n",
    "plt.scatter(x, y, marker = 'o',color = 'blue', edgecolor='black')\n",
    "plt.plot(x,regress_values, '-r')\n",
    "\n",
    "# Incorporate the other graph properties\n",
    "plt.annotate(line_eq,(-55,20),fontsize=20, color=\"red\", )\n",
    "plt.title(\"Southtern Hemisphere - Cloudlness vs Latitude\")\n",
    "plt.ylabel(\"Cloudlness\")\n",
    "plt.xlabel(\"Latitude\")\n",
    "\n",
    "# Save the image as .pngs\n",
    "\n",
    "plt.savefig('output_data/liner_S_lat vs cloudiness.png')\n",
    "\n",
    "\n",
    "\n",
    "# Show plot\n",
    "plt.show()"
   ]
  },
  {
   "cell_type": "code",
   "execution_count": 39,
   "metadata": {},
   "outputs": [
    {
     "name": "stdout",
     "output_type": "stream",
     "text": [
      "The r-squared is: 0.03600448259227999\n"
     ]
    }
   ],
   "source": [
    "# Print out the r-squared value along with the plot.\n",
    "\n",
    "print(f\"The r-squared is: {rvalue**2}\")"
   ]
  },
  {
   "cell_type": "markdown",
   "metadata": {},
   "source": [
    "####  Northern Hemisphere - Wind Speed (mph) vs. Latitude Linear Regression"
   ]
  },
  {
   "cell_type": "markdown",
   "metadata": {},
   "source": [
    "* The r-squared is 0.80 % not stronger fit. \n",
    "* There is no obvious pattern to show the relationship between two variables. "
   ]
  },
  {
   "cell_type": "code",
   "execution_count": 42,
   "metadata": {},
   "outputs": [
    {
     "data": {
      "image/png": "[encoded data removed]",
      "text/plain": [
       "<Figure size 432x288 with 1 Axes>"
      ]
     },
     "metadata": {
      "needs_background": "light"
     },
     "output_type": "display_data"
    }
   ],
   "source": [
    "x = n_hemisphere['Lat']\n",
    "y = n_hemisphere['Wind Speed']\n",
    "\n",
    "\n",
    "(slope, intercept, rvalue, pvalue, stderr) = linregress(x,y )\n",
    "\n",
    "regress_values = x * slope + intercept\n",
    "\n",
    "line_eq = \"y = \" + str(round(slope,2)) + \"x + \" + str(round(intercept,2))\n",
    "plt.scatter(x, y, marker = 'o',color = 'blue', edgecolor='black')\n",
    "plt.plot(x,regress_values, '-r')\n",
    "\n",
    "# Incorporate the other graph properties\n",
    "plt.annotate(line_eq,(10,10),fontsize=20, color=\"red\", )\n",
    "plt.title(\"Northtern Hemisphere - Wind Speed vs Latitude\")\n",
    "plt.ylabel(\"Wind Speed\")\n",
    "plt.xlabel(\"Latitude\")\n",
    "\n",
    "# Save the image as .pngs\n",
    "\n",
    "plt.savefig('output_data/liner_N_lat vs wind.png')\n",
    "\n",
    "\n",
    "\n",
    "# Show plot\n",
    "plt.show()"
   ]
  },
  {
   "cell_type": "code",
   "execution_count": 43,
   "metadata": {},
   "outputs": [
    {
     "name": "stdout",
     "output_type": "stream",
     "text": [
      "The r-squared is: 0.005213103164756589\n"
     ]
    }
   ],
   "source": [
    "# Print out the r-squared value along with the plot.\n",
    "\n",
    "print(f\"The r-squared is: {rvalue**2}\")"
   ]
  },
  {
   "cell_type": "markdown",
   "metadata": {},
   "source": [
    "####  Southern Hemisphere - Wind Speed (mph) vs. Latitude Linear Regression"
   ]
  },
  {
   "cell_type": "markdown",
   "metadata": {},
   "source": [
    "* The r-squared is 6.89% not stronger fit. \n",
    "* There is no obvious pattern to show the relationship between two variables. "
   ]
  },
  {
   "cell_type": "code",
   "execution_count": 44,
   "metadata": {},
   "outputs": [
    {
     "data": {
      "image/png": "[encoded data removed]",
      "text/plain": [
       "<Figure size 432x288 with 1 Axes>"
      ]
     },
     "metadata": {
      "needs_background": "light"
     },
     "output_type": "display_data"
    }
   ],
   "source": [
    "x = s_hemisphere['Lat']\n",
    "y = s_hemisphere['Wind Speed']\n",
    "\n",
    "\n",
    "(slope, intercept, rvalue, pvalue, stderr) = linregress(x,y )\n",
    "\n",
    "regress_values = x * slope + intercept\n",
    "\n",
    "line_eq = \"y = \" + str(round(slope,2)) + \"x + \" + str(round(intercept,2))\n",
    "plt.scatter(x,y, marker = 'o',color = 'blue', edgecolor='black')\n",
    "plt.plot(x,regress_values, '-r')\n",
    "\n",
    "# Incorporate the other graph properties\n",
    "plt.annotate(line_eq,(-50,9),fontsize=20, color=\"red\", )\n",
    "plt.title(\"Southtern Hemisphere - Wind Speed vs Latitude\")\n",
    "plt.ylabel(\"Wind Speed\")\n",
    "plt.xlabel(\"Latitude\")\n",
    "\n",
    "# Save the image as .pngs\n",
    "\n",
    "plt.savefig('output_data/liner_S_lat vs wind.png')\n",
    "\n",
    "\n",
    "\n",
    "# Show plot\n",
    "plt.show()"
   ]
  },
  {
   "cell_type": "code",
   "execution_count": 45,
   "metadata": {},
   "outputs": [
    {
     "name": "stdout",
     "output_type": "stream",
     "text": [
      "The r-squared is: 0.052686505438104554\n"
     ]
    }
   ],
   "source": [
    "# Print out the r-squared value along with the plot.\n",
    "\n",
    "print(f\"The r-squared is: {rvalue**2}\")"
   ]
  },
  {
   "cell_type": "code",
   "execution_count": null,
   "metadata": {},
   "outputs": [],
   "source": []
  }
 ],
 "metadata": {
  "anaconda-cloud": {},
  "kernel_info": {
   "name": "python3"
  },
  "kernelspec": {
   "display_name": "Python 3",
   "language": "python",
   "name": "python3"
  },
  "language_info": {
   "codemirror_mode": {
    "name": "ipython",
    "version": 3
   },
   "file_extension": ".py",
   "mimetype": "text/x-python",
   "name": "python",
   "nbconvert_exporter": "python",
   "pygments_lexer": "ipython3",
   "version": "3.8.5"
  },
  "latex_envs": {
   "LaTeX_envs_menu_present": true,
   "autoclose": false,
   "autocomplete": true,
   "bibliofile": "biblio.bib",
   "cite_by": "apalike",
   "current_citInitial": 1,
   "eqLabelWithNumbers": true,
   "eqNumInitial": 1,
   "hotkeys": {
    "equation": "Ctrl-E",
    "itemize": "Ctrl-I"
   },
   "labels_anchors": false,
   "latex_user_defs": false,
   "report_style_numbering": false,
   "user_envs_cfg": false
  },
  "nteract": {
   "version": "0.12.3"
  }
 },
 "nbformat": 4,
 "nbformat_minor": 2
}
